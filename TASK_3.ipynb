{
  "cells": [
    {
      "cell_type": "markdown",
      "metadata": {
        "id": "view-in-github",
        "colab_type": "text"
      },
      "source": [
        "<a href=\"https://colab.research.google.com/github/Karunasagar-K/Python/blob/main/TASK_3.ipynb\" target=\"_parent\"><img src=\"https://colab.research.google.com/assets/colab-badge.svg\" alt=\"Open In Colab\"/></a>"
      ]
    },
    {
      "cell_type": "markdown",
      "metadata": {
        "id": "pJGaQlh6CL6y"
      },
      "source": [
        "## Python data structures"
      ]
    },
    {
      "cell_type": "markdown",
      "metadata": {
        "id": "-gdp0pmtCL68"
      },
      "source": [
        "### There are 4 types of data structures\n",
        "* 1.List\n",
        "* 2.Tuples\n",
        "* 3.sets\n",
        "* 4.Dictinory"
      ]
    },
    {
      "cell_type": "markdown",
      "metadata": {
        "id": "0SmaAPxaCL6-"
      },
      "source": [
        "## 1. List"
      ]
    },
    {
      "cell_type": "code",
      "execution_count": null,
      "metadata": {
        "ExecuteTime": {
          "end_time": "2022-02-20T11:46:55.239257Z",
          "start_time": "2022-02-20T11:46:55.228944Z"
        },
        "id": "MjtSreH1CL6_"
      },
      "outputs": [],
      "source": [
        "marks = [] #empty list "
      ]
    },
    {
      "cell_type": "code",
      "execution_count": null,
      "metadata": {
        "ExecuteTime": {
          "end_time": "2022-02-20T11:46:55.370468Z",
          "start_time": "2022-02-20T11:46:55.242251Z"
        },
        "id": "pmaVJQ1zCL7C",
        "outputId": "09d2fca4-a6a2-4078-b4b0-de3e18ff534f"
      },
      "outputs": [
        {
          "data": {
            "text/plain": [
              "list"
            ]
          },
          "execution_count": 2,
          "metadata": {},
          "output_type": "execute_result"
        }
      ],
      "source": [
        "type (marks)"
      ]
    },
    {
      "cell_type": "code",
      "execution_count": null,
      "metadata": {
        "ExecuteTime": {
          "end_time": "2022-02-20T11:46:55.487211Z",
          "start_time": "2022-02-20T11:46:55.372464Z"
        },
        "id": "tq_WnOpVCL7F",
        "outputId": "43538e1a-748a-42fe-8537-a5972b7a3552"
      },
      "outputs": [
        {
          "data": {
            "text/plain": [
              "[80, 70, 90, 100, 65]"
            ]
          },
          "execution_count": 3,
          "metadata": {},
          "output_type": "execute_result"
        }
      ],
      "source": [
        "marks = [80,70,90,100,65] #homogeneous\n",
        "marks"
      ]
    },
    {
      "cell_type": "code",
      "execution_count": null,
      "metadata": {
        "ExecuteTime": {
          "end_time": "2022-02-20T11:46:55.597243Z",
          "start_time": "2022-02-20T11:46:55.489163Z"
        },
        "id": "UmW7b3lDCL7G",
        "outputId": "2fd5150d-e0b7-4323-e2f2-7338c79da4b4"
      },
      "outputs": [
        {
          "data": {
            "text/plain": [
              "['karuna', 80, 'senthil', 70, 'kamesh', 90, 'keerthi', 100, 'gowsi', 65]"
            ]
          },
          "execution_count": 4,
          "metadata": {},
          "output_type": "execute_result"
        }
      ],
      "source": [
        "name_marks = ['karuna',80,'senthil',70,'kamesh',90,'keerthi',100,'gowsi',65] #heterogenous\n",
        "name_marks"
      ]
    },
    {
      "cell_type": "code",
      "execution_count": null,
      "metadata": {
        "ExecuteTime": {
          "end_time": "2022-02-20T11:46:55.704880Z",
          "start_time": "2022-02-20T11:46:55.599236Z"
        },
        "id": "MXig99z3CL7I",
        "outputId": "93ab216b-8b2d-46ae-9b25-39dfb9e301cd"
      },
      "outputs": [
        {
          "data": {
            "text/plain": [
              "['karuna',\n",
              " 80,\n",
              " 'senthil',\n",
              " 70,\n",
              " 'kamesh',\n",
              " 90,\n",
              " 'keerthi',\n",
              " 100,\n",
              " 'gowsi',\n",
              " 65,\n",
              " 'karuna',\n",
              " 90]"
            ]
          },
          "execution_count": 5,
          "metadata": {},
          "output_type": "execute_result"
        }
      ],
      "source": [
        "name_marks = ['karuna',80,'senthil',70,'kamesh',90,'keerthi',100,'gowsi',65,'karuna',90] #allows duplicate values\n",
        "name_marks"
      ]
    },
    {
      "cell_type": "code",
      "execution_count": null,
      "metadata": {
        "ExecuteTime": {
          "end_time": "2022-02-20T11:46:55.844333Z",
          "start_time": "2022-02-20T11:46:55.709365Z"
        },
        "id": "2vpITKGECL7J",
        "outputId": "c5a1b989-06af-4435-d8d0-482ab04bad8c"
      },
      "outputs": [
        {
          "data": {
            "text/plain": [
              "['karuna',\n",
              " 99,\n",
              " 'senthil',\n",
              " 70,\n",
              " 'kamesh',\n",
              " 90,\n",
              " 'elavarasi',\n",
              " 100,\n",
              " 'gowsi',\n",
              " 65,\n",
              " 'karuna',\n",
              " 90]"
            ]
          },
          "execution_count": 6,
          "metadata": {},
          "output_type": "execute_result"
        }
      ],
      "source": [
        "name_marks[6] = 'elavarasi' #mutable - entries can be changable anytime\n",
        "name_marks[1] = 99\n",
        "name_marks"
      ]
    },
    {
      "cell_type": "code",
      "execution_count": null,
      "metadata": {
        "ExecuteTime": {
          "end_time": "2022-02-20T11:46:55.947640Z",
          "start_time": "2022-02-20T11:46:55.849061Z"
        },
        "id": "Sj0WjyAtCL7L",
        "outputId": "9b36a582-4550-4a72-e4cb-f4ebc4347f65"
      },
      "outputs": [
        {
          "data": {
            "text/plain": [
              "['karuna', 99, 'senthil', 70]"
            ]
          },
          "execution_count": 7,
          "metadata": {},
          "output_type": "execute_result"
        }
      ],
      "source": [
        "name_marks[0:4] #indexable"
      ]
    },
    {
      "cell_type": "code",
      "execution_count": null,
      "metadata": {
        "ExecuteTime": {
          "end_time": "2022-02-20T11:46:56.029879Z",
          "start_time": "2022-02-20T11:46:55.950781Z"
        },
        "id": "-t1Enn9SCL7N",
        "outputId": "dedeed1d-f1cb-40c5-a8f7-1ac8da7dc228"
      },
      "outputs": [
        {
          "data": {
            "text/plain": [
              "['karuna', 99, 'senthil', 70, 'kamesh', 90]"
            ]
          },
          "execution_count": 8,
          "metadata": {},
          "output_type": "execute_result"
        }
      ],
      "source": [
        "name_marks[0:6] #positive indexing"
      ]
    },
    {
      "cell_type": "code",
      "execution_count": null,
      "metadata": {
        "ExecuteTime": {
          "end_time": "2022-02-20T11:46:56.274283Z",
          "start_time": "2022-02-20T11:46:56.033959Z"
        },
        "id": "v815TeLRCL7O",
        "outputId": "26c7e933-235f-4616-c911-2ccc0ce0fcda"
      },
      "outputs": [
        {
          "data": {
            "text/plain": [
              "['karuna', 99, 'senthil', 70, 'kamesh', 90, 'elavarasi', 100, 'gowsi', 65]"
            ]
          },
          "execution_count": 9,
          "metadata": {},
          "output_type": "execute_result"
        }
      ],
      "source": [
        "name_marks[0:-2] #negative indexing"
      ]
    },
    {
      "cell_type": "code",
      "execution_count": null,
      "metadata": {
        "ExecuteTime": {
          "end_time": "2022-02-20T11:46:56.371862Z",
          "start_time": "2022-02-20T11:46:56.279482Z"
        },
        "id": "BucuAw1uCL7P",
        "outputId": "481f6bea-04d2-4fa6-8b50-5f5ac9bd42f6"
      },
      "outputs": [
        {
          "data": {
            "text/plain": [
              "['karuna', 99, 'senthil', 70, 'kamesh']"
            ]
          },
          "execution_count": 10,
          "metadata": {},
          "output_type": "execute_result"
        }
      ],
      "source": [
        "name_marks[:5] #Slicable because it is indexable"
      ]
    },
    {
      "cell_type": "code",
      "execution_count": null,
      "metadata": {
        "ExecuteTime": {
          "end_time": "2022-02-20T11:46:56.471235Z",
          "start_time": "2022-02-20T11:46:56.376997Z"
        },
        "id": "FN7bn8ZdCL7P",
        "outputId": "7770f606-62ee-49b9-c7c8-fd112fcad595"
      },
      "outputs": [
        {
          "data": {
            "text/plain": [
              "['elavarasi', 100, 'gowsi', 65, 'karuna', 90]"
            ]
          },
          "execution_count": 11,
          "metadata": {},
          "output_type": "execute_result"
        }
      ],
      "source": [
        "name_marks[6:]"
      ]
    },
    {
      "cell_type": "code",
      "execution_count": null,
      "metadata": {
        "ExecuteTime": {
          "end_time": "2022-02-20T11:46:56.570341Z",
          "start_time": "2022-02-20T11:46:56.475583Z"
        },
        "id": "PrvwkO7oCL7Q",
        "outputId": "53d1ae57-9dae-4431-d141-551f985176b7"
      },
      "outputs": [
        {
          "data": {
            "text/plain": [
              "[90]"
            ]
          },
          "execution_count": 12,
          "metadata": {},
          "output_type": "execute_result"
        }
      ],
      "source": [
        "name_marks[-1:]"
      ]
    },
    {
      "cell_type": "code",
      "execution_count": null,
      "metadata": {
        "ExecuteTime": {
          "end_time": "2022-02-20T11:46:56.687758Z",
          "start_time": "2022-02-20T11:46:56.574747Z"
        },
        "id": "Tm_hXrFZCL7R",
        "outputId": "4503243a-877c-48ea-bdca-6e1f03084f21"
      },
      "outputs": [
        {
          "data": {
            "text/plain": [
              "['karuna', 99]"
            ]
          },
          "execution_count": 13,
          "metadata": {},
          "output_type": "execute_result"
        }
      ],
      "source": [
        "name_marks[:-10]"
      ]
    },
    {
      "cell_type": "code",
      "execution_count": null,
      "metadata": {
        "ExecuteTime": {
          "end_time": "2022-02-20T11:46:56.796003Z",
          "start_time": "2022-02-20T11:46:56.692505Z"
        },
        "id": "un195vfkCL7S",
        "outputId": "9480c845-1ee6-4f36-aa01-c311540b8611"
      },
      "outputs": [
        {
          "data": {
            "text/plain": [
              "['karuna',\n",
              " 99,\n",
              " 'senthil',\n",
              " 70,\n",
              " 'kamesh',\n",
              " 90,\n",
              " 'elavarasi',\n",
              " 100,\n",
              " 'gowsi',\n",
              " 65,\n",
              " 'karuna',\n",
              " 90]"
            ]
          },
          "execution_count": 14,
          "metadata": {},
          "output_type": "execute_result"
        }
      ],
      "source": [
        "name_marks"
      ]
    },
    {
      "cell_type": "markdown",
      "metadata": {
        "id": "tr0jFnQ5CL7S"
      },
      "source": [
        "### 1.1 append"
      ]
    },
    {
      "cell_type": "markdown",
      "metadata": {
        "id": "n_l5PnC3CL7T"
      },
      "source": [
        "*  The append() method appends an element to the end of the list."
      ]
    },
    {
      "cell_type": "code",
      "execution_count": null,
      "metadata": {
        "ExecuteTime": {
          "end_time": "2022-02-20T11:46:56.899275Z",
          "start_time": "2022-02-20T11:46:56.800463Z"
        },
        "id": "Bjjmq2zSCL7T",
        "outputId": "478ddb79-7314-4b20-cce7-8e46f2a07b36"
      },
      "outputs": [
        {
          "name": "stdout",
          "output_type": "stream",
          "text": [
            "['karuna', 80, 'senthil', 70, 'kamesh', 90, 'keerthi', 100, 'gowsi', 65, 'karuna', 90, 'Nandhi']\n"
          ]
        }
      ],
      "source": [
        "#Add element nandhi to the list \n",
        "name_marks = ['karuna',80,'senthil',70,'kamesh',90,'keerthi',100,'gowsi',65,'karuna',90]\n",
        "name_marks.append(\"Nandhi\") \n",
        "print(name_marks)"
      ]
    },
    {
      "cell_type": "markdown",
      "metadata": {
        "id": "3HgvyPPWCL7U"
      },
      "source": [
        "### 1.2 clear"
      ]
    },
    {
      "cell_type": "markdown",
      "metadata": {
        "id": "-efTa_KuCL7U"
      },
      "source": [
        "* The clear() method removes all the elements from a list."
      ]
    },
    {
      "cell_type": "code",
      "execution_count": null,
      "metadata": {
        "ExecuteTime": {
          "end_time": "2022-02-20T11:46:57.077462Z",
          "start_time": "2022-02-20T11:46:56.903977Z"
        },
        "id": "SM-d2K6-CL7V",
        "outputId": "9559afa8-b4db-4a01-fa69-190ef3f491ab"
      },
      "outputs": [
        {
          "name": "stdout",
          "output_type": "stream",
          "text": [
            "[]\n"
          ]
        }
      ],
      "source": [
        "name_marks.clear() \n",
        "print(name_marks)"
      ]
    },
    {
      "cell_type": "markdown",
      "metadata": {
        "id": "KJu9Cfs1CL7W"
      },
      "source": [
        "### 1.3 copy"
      ]
    },
    {
      "cell_type": "markdown",
      "metadata": {
        "ExecuteTime": {
          "end_time": "2021-09-26T07:02:33.201187Z",
          "start_time": "2021-09-26T07:02:33.187066Z"
        },
        "id": "eLbyeE3aCL7W"
      },
      "source": [
        "* The copy() method returns a copy of the specified list"
      ]
    },
    {
      "cell_type": "code",
      "execution_count": null,
      "metadata": {
        "ExecuteTime": {
          "end_time": "2022-02-20T11:46:57.194171Z",
          "start_time": "2022-02-20T11:46:57.081822Z"
        },
        "id": "vkaNIz_CCL7X",
        "outputId": "913fbc50-b7a8-4900-be8f-0280232082f5"
      },
      "outputs": [
        {
          "name": "stdout",
          "output_type": "stream",
          "text": [
            "['karuna', 80, 'senthil', 70, 'kamesh', 90, 'keerthi', 100, 'gowsi', 65, 'karuna', 90, 'Nandhi']\n"
          ]
        }
      ],
      "source": [
        "name_marks = ['karuna', 80, 'senthil', 70, 'kamesh', 90, 'keerthi', 100, 'gowsi', 65, 'karuna', 90, 'Nandhi']\n",
        "name_marks.copy() \n",
        "print(name_marks)"
      ]
    },
    {
      "cell_type": "markdown",
      "metadata": {
        "id": "MXl4qscICL7X"
      },
      "source": [
        "### 1.4 count"
      ]
    },
    {
      "cell_type": "markdown",
      "metadata": {
        "ExecuteTime": {
          "end_time": "2021-09-26T07:02:56.510335Z",
          "start_time": "2021-09-26T07:02:56.497629Z"
        },
        "id": "NFWXriJHCL7Y"
      },
      "source": [
        "* The count() method returns the number of elements with the specified value."
      ]
    },
    {
      "cell_type": "code",
      "execution_count": null,
      "metadata": {
        "ExecuteTime": {
          "end_time": "2022-02-20T11:47:18.386637Z",
          "start_time": "2022-02-20T11:47:18.378479Z"
        },
        "id": "dhWLcGfTCL7Y",
        "outputId": "2bb324c8-8513-428c-a9c0-32314a2f97df"
      },
      "outputs": [
        {
          "name": "stdout",
          "output_type": "stream",
          "text": [
            "2\n"
          ]
        }
      ],
      "source": [
        "#how many times does karuna occur in the list\n",
        "a = name_marks.count('karuna') \n",
        "print(a)"
      ]
    },
    {
      "cell_type": "markdown",
      "metadata": {
        "id": "71hTrazdCL7Y"
      },
      "source": [
        "### 1.5 extend"
      ]
    },
    {
      "cell_type": "markdown",
      "metadata": {
        "id": "tWnDMLmRCL7Z"
      },
      "source": [
        "* The extend() method adds the specified list elements (or any iterable) to the end of the current list."
      ]
    },
    {
      "cell_type": "code",
      "execution_count": null,
      "metadata": {
        "ExecuteTime": {
          "end_time": "2022-02-20T11:47:19.833564Z",
          "start_time": "2022-02-20T11:47:19.822455Z"
        },
        "id": "6V8TqFohCL7Z",
        "outputId": "96762286-aa70-495c-eed3-f434744c1d26"
      },
      "outputs": [
        {
          "name": "stdout",
          "output_type": "stream",
          "text": [
            "['rajaji', 'kamaraj', 'bakthavasalam', 'Anna', 'Kalaingar', 'Thalapathy']\n"
          ]
        }
      ],
      "source": [
        "#add the elements of rulers_2 in the elements of rulers_1\n",
        "rulers_1 = ['rajaji','kamaraj','bakthavasalam'] \n",
        "rulers_2 = ['Anna','Kalaingar','Thalapathy']\n",
        "rulers_1.extend(rulers_2)\n",
        "print(rulers_1)"
      ]
    },
    {
      "cell_type": "markdown",
      "metadata": {
        "ExecuteTime": {
          "end_time": "2021-09-26T06:47:40.643883Z",
          "start_time": "2021-09-26T06:47:40.548971Z"
        },
        "id": "TV7LbDXrCL7Z"
      },
      "source": [
        "### 1.6 index"
      ]
    },
    {
      "cell_type": "markdown",
      "metadata": {
        "ExecuteTime": {
          "end_time": "2021-09-26T06:59:19.146814Z",
          "start_time": "2021-09-26T06:59:19.131514Z"
        },
        "id": "xh4x7uoQCL7a"
      },
      "source": [
        "* The index() method returns the position at the first occurrence of the specified value."
      ]
    },
    {
      "cell_type": "code",
      "execution_count": null,
      "metadata": {
        "ExecuteTime": {
          "end_time": "2022-02-20T11:47:21.267012Z",
          "start_time": "2022-02-20T11:47:21.256296Z"
        },
        "id": "DM-a0JjsCL7a",
        "outputId": "9bb48e18-a6a5-42f3-9f1c-ee7003522802"
      },
      "outputs": [
        {
          "name": "stdout",
          "output_type": "stream",
          "text": [
            "1\n"
          ]
        }
      ],
      "source": [
        "#find position of kamaraj in the list\n",
        "rulers_1 = ['rajaji','kamaraj','bakthavasalam'] \n",
        "m = rulers_1.index('kamaraj')\n",
        "print(m)\n"
      ]
    },
    {
      "cell_type": "markdown",
      "metadata": {
        "ExecuteTime": {
          "end_time": "2021-09-26T06:58:59.290193Z",
          "start_time": "2021-09-26T06:58:59.285031Z"
        },
        "id": "vv1HiXarCL7a"
      },
      "source": [
        "### 1.7 insert"
      ]
    },
    {
      "cell_type": "markdown",
      "metadata": {
        "id": "4Buq2wbkCL7b"
      },
      "source": [
        "* The insert() method inserts the specified value at the specified position."
      ]
    },
    {
      "cell_type": "code",
      "execution_count": null,
      "metadata": {
        "ExecuteTime": {
          "end_time": "2022-02-20T11:47:22.561791Z",
          "start_time": "2022-02-20T11:47:22.554762Z"
        },
        "id": "MCdkEEVvCL7b",
        "outputId": "4d771304-b671-4e42-9180-aeceff486a64"
      },
      "outputs": [
        {
          "name": "stdout",
          "output_type": "stream",
          "text": [
            "['Anna', 'Kalaingar', 'mgr', 'Thalapathy']\n"
          ]
        }
      ],
      "source": [
        "rulers_2.insert(2,'mgr')\n",
        "print (rulers_2)"
      ]
    },
    {
      "cell_type": "markdown",
      "metadata": {
        "id": "5v27ra6OCL7c"
      },
      "source": [
        "### 1.8 pop"
      ]
    },
    {
      "cell_type": "markdown",
      "metadata": {
        "id": "36TLz3niCL7c"
      },
      "source": [
        "* The pop() method removes the element at the specified position."
      ]
    },
    {
      "cell_type": "code",
      "execution_count": null,
      "metadata": {
        "ExecuteTime": {
          "end_time": "2022-02-20T11:47:24.483469Z",
          "start_time": "2022-02-20T11:47:24.466248Z"
        },
        "id": "j4IhAU4MCL7c",
        "outputId": "6605c800-83c4-42e3-d852-d128f3a9a74d"
      },
      "outputs": [
        {
          "name": "stdout",
          "output_type": "stream",
          "text": [
            "['Anna', 'Kalaingar', 'Thalapathy']\n"
          ]
        }
      ],
      "source": [
        "rulers_2.pop(2)\n",
        "print(rulers_2)"
      ]
    },
    {
      "cell_type": "markdown",
      "metadata": {
        "id": "L1ofKCRRCL7d"
      },
      "source": [
        "### 1.9 remove"
      ]
    },
    {
      "cell_type": "markdown",
      "metadata": {
        "id": "P7DdMenNCL7d"
      },
      "source": [
        "* The remove() method removes the first occurrence of the element with the specified value."
      ]
    },
    {
      "cell_type": "code",
      "execution_count": null,
      "metadata": {
        "ExecuteTime": {
          "end_time": "2022-02-20T11:47:26.685604Z",
          "start_time": "2022-02-20T11:47:26.673691Z"
        },
        "id": "qUcCUUUQCL7d",
        "outputId": "45bde342-feaa-4dee-a4a6-9c92c8d8f670"
      },
      "outputs": [
        {
          "name": "stdout",
          "output_type": "stream",
          "text": [
            "['kamaraj', 'bakthavasalam']\n"
          ]
        }
      ],
      "source": [
        "rulers_1.remove('rajaji')\n",
        "print(rulers_1)"
      ]
    },
    {
      "cell_type": "markdown",
      "metadata": {
        "id": "AmA1Lxu6CL7d"
      },
      "source": [
        "### 1.10 reverse"
      ]
    },
    {
      "cell_type": "markdown",
      "metadata": {
        "id": "nJih-9oyCL7e"
      },
      "source": [
        "* The reverse() method reverses the sorting order of the elements.\n",
        "\n"
      ]
    },
    {
      "cell_type": "code",
      "execution_count": null,
      "metadata": {
        "ExecuteTime": {
          "end_time": "2022-02-20T11:47:32.935330Z",
          "start_time": "2022-02-20T11:47:32.928003Z"
        },
        "id": "kx_x2aZKCL7e",
        "outputId": "d97103a7-4415-4136-955a-b69a4d6cc34c"
      },
      "outputs": [
        {
          "name": "stdout",
          "output_type": "stream",
          "text": [
            "['bakthavasalam', 'kamaraj']\n"
          ]
        }
      ],
      "source": [
        "rulers_1.reverse()\n",
        "print(rulers_1)"
      ]
    },
    {
      "cell_type": "markdown",
      "metadata": {
        "ExecuteTime": {
          "end_time": "2021-09-26T07:34:04.668710Z",
          "start_time": "2021-09-26T07:34:04.648690Z"
        },
        "id": "kQbSpT_SCL7f"
      },
      "source": [
        "### 1.11 sort"
      ]
    },
    {
      "cell_type": "markdown",
      "metadata": {
        "ExecuteTime": {
          "end_time": "2021-09-26T07:34:25.877657Z",
          "start_time": "2021-09-26T07:34:25.861854Z"
        },
        "id": "E_RLtsjnCL7f"
      },
      "source": [
        "* The sort() method sorts the list ascending by default.\n",
        "\n",
        "* You can also make a function to decide the sorting criteria(s).\n",
        "\n"
      ]
    },
    {
      "cell_type": "code",
      "execution_count": null,
      "metadata": {
        "ExecuteTime": {
          "end_time": "2022-02-20T11:48:20.977168Z",
          "start_time": "2022-02-20T11:48:20.963620Z"
        },
        "id": "JjDhvKO7CL7f",
        "outputId": "acecf853-2cca-44f7-c2d0-cb27564b78fd"
      },
      "outputs": [
        {
          "name": "stdout",
          "output_type": "stream",
          "text": [
            "['ari', 'balu', 'divi', 'kamesh', 'mani', 'nive', 'senthil', 'zee']\n"
          ]
        }
      ],
      "source": [
        "#sort by ascending (default)\n",
        "names = ['senthil','kamesh','mani','nive','ari','balu','divi','zee']\n",
        "names.sort()\n",
        "print(names)"
      ]
    },
    {
      "cell_type": "code",
      "execution_count": null,
      "metadata": {
        "ExecuteTime": {
          "end_time": "2022-02-20T11:48:52.999269Z",
          "start_time": "2022-02-20T11:48:52.984167Z"
        },
        "id": "WwygLHdgCL7g",
        "outputId": "c28645d1-64dd-4bdc-ad7f-f78ddbcf6a06"
      },
      "outputs": [
        {
          "name": "stdout",
          "output_type": "stream",
          "text": [
            "['zee', 'senthil', 'nive', 'mani', 'kamesh', 'divi', 'balu', 'ari']\n"
          ]
        }
      ],
      "source": [
        "#sort by descending\n",
        "names.sort(reverse=True)\n",
        "print(names)"
      ]
    },
    {
      "cell_type": "code",
      "execution_count": null,
      "metadata": {
        "ExecuteTime": {
          "end_time": "2022-02-20T11:49:54.049080Z",
          "start_time": "2022-02-20T11:49:54.039418Z"
        },
        "id": "vDo43nt2CL7g",
        "outputId": "066e3d74-e83c-4e8d-b518-c8e4aac4c4ea"
      },
      "outputs": [
        {
          "name": "stdout",
          "output_type": "stream",
          "text": [
            "['ari', 'zee', 'mani', 'nive', 'balu', 'divi', 'kamesh', 'senthil']\n"
          ]
        }
      ],
      "source": [
        "#Sort the list by the length of the values:\n",
        "def myfunc(k):\n",
        "    return len(k)\n",
        "names = ['senthil','kamesh','mani','nive','ari','balu','divi','zee']  \n",
        "names.sort(key=myfunc)\n",
        "print(names)"
      ]
    },
    {
      "cell_type": "markdown",
      "metadata": {
        "id": "-iI8X-0BCL7g"
      },
      "source": [
        "## 2.tuple"
      ]
    },
    {
      "cell_type": "code",
      "execution_count": null,
      "metadata": {
        "ExecuteTime": {
          "end_time": "2022-02-20T11:50:14.655627Z",
          "start_time": "2022-02-20T11:50:14.638200Z"
        },
        "id": "VV2LpTqfCL7h",
        "outputId": "96c9a44c-5298-42e6-f687-267212afc53b"
      },
      "outputs": [
        {
          "data": {
            "text/plain": [
              "tuple"
            ]
          },
          "execution_count": 46,
          "metadata": {},
          "output_type": "execute_result"
        }
      ],
      "source": [
        "empty_tuple = () #empty tuple\n",
        "type(empty_tuple)"
      ]
    },
    {
      "cell_type": "code",
      "execution_count": null,
      "metadata": {
        "ExecuteTime": {
          "end_time": "2022-02-20T11:50:20.666725Z",
          "start_time": "2022-02-20T11:50:20.652878Z"
        },
        "id": "DyhZCVGoCL7h",
        "outputId": "da32ce79-5c7a-4a2b-f9fc-06a55f1b0c98"
      },
      "outputs": [
        {
          "data": {
            "text/plain": [
              "('Karunas', 25, 55.5, 'Naveen', 'Karunas')"
            ]
          },
          "execution_count": 47,
          "metadata": {},
          "output_type": "execute_result"
        }
      ],
      "source": [
        "tuple_ =('Karunas',25,55.5,'Naveen','Karunas') #Heterogenous and it allows duplicate values\n",
        "tuple_"
      ]
    },
    {
      "cell_type": "code",
      "execution_count": null,
      "metadata": {
        "ExecuteTime": {
          "end_time": "2022-02-20T11:51:14.779104Z",
          "start_time": "2022-02-20T11:51:14.768577Z"
        },
        "id": "8Ywd4C0vCL7h",
        "outputId": "604f15e3-1137-4f9d-b516-a07b385982e4"
      },
      "outputs": [
        {
          "data": {
            "text/plain": [
              "55.5"
            ]
          },
          "execution_count": 48,
          "metadata": {},
          "output_type": "execute_result"
        }
      ],
      "source": [
        "tuple_[2] #indexable"
      ]
    },
    {
      "cell_type": "code",
      "execution_count": null,
      "metadata": {
        "ExecuteTime": {
          "end_time": "2022-02-20T11:51:15.178330Z",
          "start_time": "2022-02-20T11:51:15.163394Z"
        },
        "id": "uO0erW76CL7i",
        "outputId": "41dfd2ef-8645-428e-bdd9-8fa1b93e9c8c"
      },
      "outputs": [
        {
          "data": {
            "text/plain": [
              "('Karunas', 25)"
            ]
          },
          "execution_count": 49,
          "metadata": {},
          "output_type": "execute_result"
        }
      ],
      "source": [
        "tuple_[:2] #slicable"
      ]
    },
    {
      "cell_type": "code",
      "execution_count": null,
      "metadata": {
        "ExecuteTime": {
          "end_time": "2022-02-20T11:51:15.586373Z",
          "start_time": "2022-02-20T11:51:15.568565Z"
        },
        "id": "sK2NFDQWCL7i",
        "outputId": "737ee0e3-d612-449f-8195-56b8acbdef38"
      },
      "outputs": [
        {
          "ename": "TypeError",
          "evalue": "'tuple' object does not support item assignment",
          "output_type": "error",
          "traceback": [
            "\u001b[1;31m---------------------------------------------------------------------------\u001b[0m",
            "\u001b[1;31mTypeError\u001b[0m                                 Traceback (most recent call last)",
            "\u001b[1;32m<ipython-input-50-af1c42ec07ca>\u001b[0m in \u001b[0;36m<module>\u001b[1;34m\u001b[0m\n\u001b[1;32m----> 1\u001b[1;33m \u001b[0mtuple_\u001b[0m\u001b[1;33m[\u001b[0m\u001b[1;36m0\u001b[0m\u001b[1;33m]\u001b[0m \u001b[1;33m=\u001b[0m \u001b[1;36m26\u001b[0m \u001b[1;31m#not mutable - entries cannot be changed\u001b[0m\u001b[1;33m\u001b[0m\u001b[1;33m\u001b[0m\u001b[0m\n\u001b[0m\u001b[0;32m      2\u001b[0m \u001b[0mtuple_\u001b[0m\u001b[1;33m\u001b[0m\u001b[1;33m\u001b[0m\u001b[0m\n",
            "\u001b[1;31mTypeError\u001b[0m: 'tuple' object does not support item assignment"
          ]
        }
      ],
      "source": [
        "tuple_[0] = 26 #not mutable - entries cannot be changed\n",
        "tuple_"
      ]
    },
    {
      "cell_type": "markdown",
      "metadata": {
        "id": "dq1VYTPwCL7j"
      },
      "source": [
        "### 2.1 Count\n",
        "* The count() method returns the number of times a specified value appears in the tuple.\n",
        "\n"
      ]
    },
    {
      "cell_type": "code",
      "execution_count": null,
      "metadata": {
        "ExecuteTime": {
          "end_time": "2022-02-20T11:51:32.218480Z",
          "start_time": "2022-02-20T11:51:32.209109Z"
        },
        "id": "20VPypuACL7j",
        "outputId": "90404423-55b6-4fa8-8a86-34d515f5566f"
      },
      "outputs": [
        {
          "name": "stdout",
          "output_type": "stream",
          "text": [
            "2\n"
          ]
        }
      ],
      "source": [
        "#Return the number of times the character karunas appears in the tuple:\n",
        "a = tuple_.count('Karunas')\n",
        "print(a)"
      ]
    },
    {
      "cell_type": "markdown",
      "metadata": {
        "ExecuteTime": {
          "end_time": "2021-09-26T08:14:14.009620Z",
          "start_time": "2021-09-26T08:14:13.997594Z"
        },
        "id": "_W8vfXk5CL7j"
      },
      "source": [
        "### 2.2 index\n",
        "* The index() method finds the first occurrence of the specified value.\n",
        "\n",
        "* The index() method raises an exception if the value is not found."
      ]
    },
    {
      "cell_type": "code",
      "execution_count": null,
      "metadata": {
        "ExecuteTime": {
          "end_time": "2022-02-20T12:00:51.462872Z",
          "start_time": "2022-02-20T12:00:51.451079Z"
        },
        "id": "IC6lHgJuCL7k",
        "outputId": "169a7ac1-419e-4cbe-b91a-ce79d3f42d14"
      },
      "outputs": [
        {
          "name": "stdout",
          "output_type": "stream",
          "text": [
            "1\n"
          ]
        }
      ],
      "source": [
        "#Search for the first occurrence of the value 25, and return its position\n",
        "b = tuple_.index(25)\n",
        "print(b)"
      ]
    },
    {
      "cell_type": "markdown",
      "metadata": {
        "id": "knZkFmWJCL7k"
      },
      "source": [
        "## 3.Sets"
      ]
    },
    {
      "cell_type": "code",
      "execution_count": null,
      "metadata": {
        "ExecuteTime": {
          "end_time": "2022-02-20T12:00:52.108924Z",
          "start_time": "2022-02-20T12:00:52.100514Z"
        },
        "id": "riQadgoMCL7k",
        "outputId": "7c38d27c-c1bb-44aa-ac65-9eaa385aba1d"
      },
      "outputs": [
        {
          "data": {
            "text/plain": [
              "set"
            ]
          },
          "execution_count": 73,
          "metadata": {},
          "output_type": "execute_result"
        }
      ],
      "source": [
        "empty_set = set() #empty set\n",
        "type(empty_set)"
      ]
    },
    {
      "cell_type": "code",
      "execution_count": null,
      "metadata": {
        "ExecuteTime": {
          "end_time": "2022-02-20T12:00:52.461056Z",
          "start_time": "2022-02-20T12:00:52.441663Z"
        },
        "id": "OhgGTtrXCL7l",
        "outputId": "18f8b719-5161-4b77-a45f-f74094c88157"
      },
      "outputs": [
        {
          "data": {
            "text/plain": [
              "{35, 40, 45, 70, 80, 90, 'karunas'}"
            ]
          },
          "execution_count": 74,
          "metadata": {},
          "output_type": "execute_result"
        }
      ],
      "source": [
        "speed = {35,70,45,90,40,80,\"karunas\",35}#Heterogenous #never allows duplicate values\n",
        "type(speed)\n",
        "speed"
      ]
    },
    {
      "cell_type": "code",
      "execution_count": null,
      "metadata": {
        "ExecuteTime": {
          "end_time": "2022-02-20T12:00:53.051903Z",
          "start_time": "2022-02-20T12:00:53.030732Z"
        },
        "id": "HD69oQi_CL7l",
        "outputId": "e489240a-9328-485c-a81c-134841fa374f"
      },
      "outputs": [
        {
          "data": {
            "text/plain": [
              "7"
            ]
          },
          "execution_count": 75,
          "metadata": {},
          "output_type": "execute_result"
        }
      ],
      "source": [
        "len(speed)"
      ]
    },
    {
      "cell_type": "code",
      "execution_count": null,
      "metadata": {
        "ExecuteTime": {
          "end_time": "2022-02-20T12:00:53.729663Z",
          "start_time": "2022-02-20T12:00:53.703402Z"
        },
        "id": "MrX2sv4KCL7l",
        "outputId": "e4f13da4-31fa-4356-aab1-2fced2ecfb53"
      },
      "outputs": [
        {
          "ename": "TypeError",
          "evalue": "'set' object does not support item assignment",
          "output_type": "error",
          "traceback": [
            "\u001b[1;31m---------------------------------------------------------------------------\u001b[0m",
            "\u001b[1;31mTypeError\u001b[0m                                 Traceback (most recent call last)",
            "\u001b[1;32m<ipython-input-76-25b960477871>\u001b[0m in \u001b[0;36m<module>\u001b[1;34m\u001b[0m\n\u001b[1;32m----> 1\u001b[1;33m \u001b[0mspeed\u001b[0m\u001b[1;33m[\u001b[0m\u001b[1;36m0\u001b[0m\u001b[1;33m]\u001b[0m \u001b[1;33m=\u001b[0m \u001b[1;34m\"Karunas\"\u001b[0m \u001b[1;31m#not indexable #not slicable\u001b[0m\u001b[1;33m\u001b[0m\u001b[1;33m\u001b[0m\u001b[0m\n\u001b[0m\u001b[0;32m      2\u001b[0m \u001b[0mspeed\u001b[0m\u001b[1;33m\u001b[0m\u001b[1;33m\u001b[0m\u001b[0m\n",
            "\u001b[1;31mTypeError\u001b[0m: 'set' object does not support item assignment"
          ]
        }
      ],
      "source": [
        "speed[0] = \"Karunas\" #not indexable #not slicable\n",
        "speed"
      ]
    },
    {
      "cell_type": "markdown",
      "metadata": {
        "id": "BXzhfRJ9CL7m"
      },
      "source": [
        "### 3.1 add() "
      ]
    },
    {
      "cell_type": "markdown",
      "metadata": {
        "id": "xUzchjfaCL7m"
      },
      "source": [
        "* add an element bajaj to the set"
      ]
    },
    {
      "cell_type": "code",
      "execution_count": null,
      "metadata": {
        "ExecuteTime": {
          "end_time": "2022-02-20T12:00:54.873949Z",
          "start_time": "2022-02-20T12:00:54.856932Z"
        },
        "id": "kFA5NgHKCL7m",
        "outputId": "77ed5404-a05a-4912-9842-bacf64e38999"
      },
      "outputs": [
        {
          "data": {
            "text/plain": [
              "{'Bajaj', 'Hero', 'Honda', 'TVS'}"
            ]
          },
          "execution_count": 77,
          "metadata": {},
          "output_type": "execute_result"
        }
      ],
      "source": [
        "cars = {\"Honda\",\"Hero\",\"TVS\"}\n",
        "cars.add(\"Bajaj\")\n",
        "cars"
      ]
    },
    {
      "cell_type": "markdown",
      "metadata": {
        "id": "NO5eltd6CL7m"
      },
      "source": [
        "### 3.2 clear()"
      ]
    },
    {
      "cell_type": "markdown",
      "metadata": {
        "id": "C1Htg7IZCL7n"
      },
      "source": [
        "* clear all the elements in the speed set"
      ]
    },
    {
      "cell_type": "code",
      "execution_count": null,
      "metadata": {
        "ExecuteTime": {
          "end_time": "2022-02-20T12:00:56.086011Z",
          "start_time": "2022-02-20T12:00:56.074357Z"
        },
        "id": "OjPDWVY6CL7n",
        "outputId": "e47e621c-37b2-4d4b-d0f3-d39f1bcbce8e"
      },
      "outputs": [
        {
          "data": {
            "text/plain": [
              "set()"
            ]
          },
          "execution_count": 78,
          "metadata": {},
          "output_type": "execute_result"
        }
      ],
      "source": [
        "speed.clear()\n",
        "speed\n"
      ]
    },
    {
      "cell_type": "markdown",
      "metadata": {
        "id": "X_FNGbYvCL7n"
      },
      "source": [
        "### 3.3 copy()"
      ]
    },
    {
      "cell_type": "markdown",
      "metadata": {
        "id": "Um3_0He9CL7o"
      },
      "source": [
        "* copy the cars set"
      ]
    },
    {
      "cell_type": "code",
      "execution_count": null,
      "metadata": {
        "ExecuteTime": {
          "end_time": "2022-02-20T12:00:57.206418Z",
          "start_time": "2022-02-20T12:00:57.185995Z"
        },
        "id": "d1P6e9AfCL7o",
        "outputId": "9de3076c-0c6f-47ed-ea22-49d8b49f466c"
      },
      "outputs": [
        {
          "data": {
            "text/plain": [
              "{'Bajaj', 'Hero', 'Honda', 'TVS'}"
            ]
          },
          "execution_count": 79,
          "metadata": {},
          "output_type": "execute_result"
        }
      ],
      "source": [
        "cars.copy()"
      ]
    },
    {
      "cell_type": "markdown",
      "metadata": {
        "id": "IKQ0irCECL7o"
      },
      "source": [
        "### 3.4 difference()"
      ]
    },
    {
      "cell_type": "markdown",
      "metadata": {
        "id": "JjHrljIBCL7o"
      },
      "source": [
        "* The difference() method returns a set that contains the difference between two sets.\n",
        "\n",
        "* Meaning: The returned set contains items that exist only in the first set, and not in both sets."
      ]
    },
    {
      "cell_type": "code",
      "execution_count": null,
      "metadata": {
        "ExecuteTime": {
          "end_time": "2022-02-20T12:00:58.914902Z",
          "start_time": "2022-02-20T12:00:58.903475Z"
        },
        "id": "7pxzaZVuCL7p",
        "outputId": "eec566a2-9cb6-49ed-ab2e-9b3f0663d625"
      },
      "outputs": [
        {
          "data": {
            "text/plain": [
              "{'Bajaj', 'Hero', 'Honda', 'TVS'}"
            ]
          },
          "execution_count": 80,
          "metadata": {},
          "output_type": "execute_result"
        }
      ],
      "source": [
        "cars"
      ]
    },
    {
      "cell_type": "code",
      "execution_count": null,
      "metadata": {
        "ExecuteTime": {
          "end_time": "2022-02-20T12:00:59.468718Z",
          "start_time": "2022-02-20T12:00:59.450471Z"
        },
        "id": "4Zb12nZjCL7p",
        "outputId": "8f577362-642e-4b5e-f73e-fd35f1c542aa"
      },
      "outputs": [
        {
          "data": {
            "text/plain": [
              "{'Bajaj', 'Honda', 'TVS'}"
            ]
          },
          "execution_count": 81,
          "metadata": {},
          "output_type": "execute_result"
        }
      ],
      "source": [
        "bike={\"Hero\",\"Scooty\",\"splendor\"}\n",
        "c=cars.difference(bike)\n",
        "c"
      ]
    },
    {
      "cell_type": "markdown",
      "metadata": {
        "id": "_IQCaqV_CL7p"
      },
      "source": [
        "### 3.5 difference_update"
      ]
    },
    {
      "cell_type": "markdown",
      "metadata": {
        "id": "7t-jnfZZCL7q"
      },
      "source": [
        "* The difference_update() method removes the items that exist in both sets.\n",
        "\n",
        "* The difference_update() method is different from the difference() method, because the difference() method returns a new set, without the unwanted items, and the difference_update() method removes the unwanted items from the original set."
      ]
    },
    {
      "cell_type": "code",
      "execution_count": null,
      "metadata": {
        "ExecuteTime": {
          "end_time": "2022-02-20T12:01:00.849415Z",
          "start_time": "2022-02-20T12:01:00.838994Z"
        },
        "id": "yLcYaP8_CL7q",
        "outputId": "18ea4979-2049-4980-c921-36b5b5a04a8e"
      },
      "outputs": [
        {
          "data": {
            "text/plain": [
              "{'Bajaj', 'Honda', 'TVS'}"
            ]
          },
          "execution_count": 82,
          "metadata": {},
          "output_type": "execute_result"
        }
      ],
      "source": [
        "cars.difference_update(bike)\n",
        "cars"
      ]
    },
    {
      "cell_type": "markdown",
      "metadata": {
        "id": "70hWEZ_hCL7q"
      },
      "source": [
        "### 3.6 discard"
      ]
    },
    {
      "cell_type": "markdown",
      "metadata": {
        "ExecuteTime": {
          "end_time": "2021-09-27T15:30:47.952928Z",
          "start_time": "2021-09-27T15:30:47.940552Z"
        },
        "id": "Kz_KgEjuCL7q"
      },
      "source": [
        "* The discard() method removes the specified item from the set.\n",
        "\n",
        "* This method is different from the remove() method, because the remove() method will raise an error if the specified item does not exist, and the discard() method will not."
      ]
    },
    {
      "cell_type": "code",
      "execution_count": null,
      "metadata": {
        "ExecuteTime": {
          "end_time": "2022-02-20T12:01:02.632001Z",
          "start_time": "2022-02-20T12:01:02.621836Z"
        },
        "id": "zxjwLh0_CL7r",
        "outputId": "405df89b-36a0-4286-9b1a-9518456ac609"
      },
      "outputs": [
        {
          "data": {
            "text/plain": [
              "{'Bajaj', 'Honda', 'TVS'}"
            ]
          },
          "execution_count": 83,
          "metadata": {},
          "output_type": "execute_result"
        }
      ],
      "source": [
        "cars\n"
      ]
    },
    {
      "cell_type": "code",
      "execution_count": null,
      "metadata": {
        "ExecuteTime": {
          "end_time": "2022-02-20T12:00:06.814616Z",
          "start_time": "2022-02-20T12:00:06.802904Z"
        },
        "id": "4JNEZGywCL7r",
        "outputId": "7195213e-7603-41f3-dc0c-100408103257"
      },
      "outputs": [
        {
          "data": {
            "text/plain": [
              "{'Bajaj', 'Honda'}"
            ]
          },
          "execution_count": 66,
          "metadata": {},
          "output_type": "execute_result"
        }
      ],
      "source": [
        "cars.discard(\"TVS\")\n",
        "cars"
      ]
    },
    {
      "cell_type": "markdown",
      "metadata": {
        "id": "UmzMrEVhCL7r"
      },
      "source": [
        "### 3.7 Intersection"
      ]
    },
    {
      "cell_type": "markdown",
      "metadata": {
        "ExecuteTime": {
          "end_time": "2021-09-27T15:35:26.246913Z",
          "start_time": "2021-09-27T15:35:26.233055Z"
        },
        "id": "p7ikPW4jCL7s"
      },
      "source": [
        "* The intersection() method returns a set that contains the similarity between two or more sets.\n",
        "\n",
        "* Meaning: The returned set contains only items that exist in both sets, or in all sets if the comparison is done with more than two sets."
      ]
    },
    {
      "cell_type": "code",
      "execution_count": null,
      "metadata": {
        "ExecuteTime": {
          "end_time": "2022-02-20T12:01:47.601020Z",
          "start_time": "2022-02-20T12:01:47.587078Z"
        },
        "id": "J2E3HjwLCL7s",
        "outputId": "092a9d05-2afb-47c7-f1ed-26b58be41997"
      },
      "outputs": [
        {
          "data": {
            "text/plain": [
              "{'apple'}"
            ]
          },
          "execution_count": 85,
          "metadata": {},
          "output_type": "execute_result"
        }
      ],
      "source": [
        "a = {\"apple\",\"orange\",\"banana\"}\n",
        "b = {\"google\",\"microsoft\",\"apple\"}\n",
        "g=a.intersection(b)\n",
        "g"
      ]
    },
    {
      "cell_type": "markdown",
      "metadata": {
        "ExecuteTime": {
          "end_time": "2021-09-27T15:38:39.875580Z",
          "start_time": "2021-09-27T15:38:39.855665Z"
        },
        "id": "gUoLe2TvCL7s"
      },
      "source": [
        "### 3.8 intersection_update"
      ]
    },
    {
      "cell_type": "markdown",
      "metadata": {
        "ExecuteTime": {
          "end_time": "2021-09-27T15:41:25.665360Z",
          "start_time": "2021-09-27T15:41:25.644784Z"
        },
        "id": "jI81pQnECL7t"
      },
      "source": [
        "* The intersection_update() method removes the items that is not present in both sets (or in all sets if the comparison is done between more than two sets).\n",
        "\n",
        "* The intersection_update() method is different from the intersection() method, because the intersection() method returns a new set, without the unwanted items, and the intersection_update() method removes the unwanted items from the original set."
      ]
    },
    {
      "cell_type": "code",
      "execution_count": null,
      "metadata": {
        "ExecuteTime": {
          "end_time": "2022-02-20T12:01:53.826926Z",
          "start_time": "2022-02-20T12:01:53.810259Z"
        },
        "id": "MGb1d7c9CL7t",
        "outputId": "1e28cf40-a452-4d49-c3ae-3e66965f12e8"
      },
      "outputs": [
        {
          "name": "stdout",
          "output_type": "stream",
          "text": [
            "{'apple'}\n"
          ]
        }
      ],
      "source": [
        "a.intersection_update(b)\n",
        "print(a)"
      ]
    },
    {
      "cell_type": "markdown",
      "metadata": {
        "ExecuteTime": {
          "end_time": "2021-09-27T15:47:03.383021Z",
          "start_time": "2021-09-27T15:47:03.366977Z"
        },
        "id": "Xtf86VlECL7t"
      },
      "source": [
        "### 3.9 pop\n",
        "* The pop() method removes a random item from the set."
      ]
    },
    {
      "cell_type": "code",
      "execution_count": null,
      "metadata": {
        "ExecuteTime": {
          "end_time": "2022-02-20T12:01:55.329036Z",
          "start_time": "2022-02-20T12:01:55.321364Z"
        },
        "id": "-SsOhGPQCL7t",
        "outputId": "845c1391-ed71-4e15-b9d8-1a107e3e28bf"
      },
      "outputs": [
        {
          "data": {
            "text/plain": [
              "{'apple', 'google', 'microsoft'}"
            ]
          },
          "execution_count": 87,
          "metadata": {},
          "output_type": "execute_result"
        }
      ],
      "source": [
        "b"
      ]
    },
    {
      "cell_type": "code",
      "execution_count": null,
      "metadata": {
        "ExecuteTime": {
          "end_time": "2022-02-20T12:01:55.941497Z",
          "start_time": "2022-02-20T12:01:55.931277Z"
        },
        "id": "tRHubWBaCL7u",
        "outputId": "14938932-1a84-43df-b3ff-0ac22ae93c97"
      },
      "outputs": [
        {
          "data": {
            "text/plain": [
              "'apple'"
            ]
          },
          "execution_count": 88,
          "metadata": {},
          "output_type": "execute_result"
        }
      ],
      "source": [
        "b.pop()"
      ]
    },
    {
      "cell_type": "markdown",
      "metadata": {
        "id": "2N3EgyhzCL7u"
      },
      "source": [
        "### 3.10 remove()\n",
        "* Remove the specific element"
      ]
    },
    {
      "cell_type": "code",
      "execution_count": null,
      "metadata": {
        "ExecuteTime": {
          "end_time": "2022-02-20T12:02:13.793954Z",
          "start_time": "2022-02-20T12:02:13.775961Z"
        },
        "id": "AsEf05MsCL7u",
        "outputId": "218e352e-fe20-4f93-f09f-54a06a5a0d48"
      },
      "outputs": [
        {
          "data": {
            "text/plain": [
              "{'jasmine', 'lotus'}"
            ]
          },
          "execution_count": 89,
          "metadata": {},
          "output_type": "execute_result"
        }
      ],
      "source": [
        "flowers = {\"roja\",\"jasmine\",\"lotus\"}\n",
        "flowers.remove('roja')\n",
        "flowers"
      ]
    },
    {
      "cell_type": "markdown",
      "metadata": {
        "id": "ylBQkekdCL7v"
      },
      "source": [
        "### 3.11 union\n",
        "* The union() method returns a set that contains all items from the original set, and all items from the specified set(s)."
      ]
    },
    {
      "cell_type": "code",
      "execution_count": null,
      "metadata": {
        "ExecuteTime": {
          "end_time": "2022-02-20T12:02:19.907335Z",
          "start_time": "2022-02-20T12:02:19.893772Z"
        },
        "id": "anj5GQopCL7v",
        "outputId": "2240ec4f-c98a-47b4-bcea-177212f3975d"
      },
      "outputs": [
        {
          "name": "stdout",
          "output_type": "stream",
          "text": [
            "{'apple', 'microsoft', 'cherry', 'banana', 'google'}\n"
          ]
        }
      ],
      "source": [
        "x = {\"apple\", \"banana\", \"cherry\"}\n",
        "y = {\"google\", \"microsoft\", \"apple\"}\n",
        "\n",
        "z = x.union(y) \n",
        "\n",
        "print(z)"
      ]
    },
    {
      "cell_type": "markdown",
      "metadata": {
        "id": "mWF6HQUICL7w"
      },
      "source": [
        "### 3.12 update\n",
        "* The update() method updates the current set, by adding items from another set (or any other iterable)."
      ]
    },
    {
      "cell_type": "code",
      "execution_count": null,
      "metadata": {
        "ExecuteTime": {
          "end_time": "2022-02-20T12:02:38.426314Z",
          "start_time": "2022-02-20T12:02:38.414760Z"
        },
        "id": "NBrSYdMFCL7w",
        "outputId": "8e1d0465-227a-4f53-db2c-a5deb8a3c1bc"
      },
      "outputs": [
        {
          "name": "stdout",
          "output_type": "stream",
          "text": [
            "{'apple', 'microsoft', 'cherry', 'banana', 'google'}\n"
          ]
        }
      ],
      "source": [
        "x = {\"apple\", \"banana\", \"cherry\"}\n",
        "y = {\"google\", \"microsoft\", \"apple\"}\n",
        "\n",
        "x.update(y)\n",
        "\n",
        "print(x)"
      ]
    },
    {
      "cell_type": "markdown",
      "metadata": {
        "id": "uuApaB9WCL7w"
      },
      "source": [
        "## 4.Dictionary(dict) - Key:Value pair"
      ]
    },
    {
      "cell_type": "code",
      "execution_count": null,
      "metadata": {
        "ExecuteTime": {
          "end_time": "2022-02-20T12:02:51.311623Z",
          "start_time": "2022-02-20T12:02:51.302991Z"
        },
        "id": "0EhC41UFCL7w",
        "outputId": "aaf35b7c-3ebc-4683-d4fa-b2c5a9c8d3ae"
      },
      "outputs": [
        {
          "data": {
            "text/plain": [
              "dict"
            ]
          },
          "execution_count": 92,
          "metadata": {},
          "output_type": "execute_result"
        }
      ],
      "source": [
        "empty_dict = {} #empty dict\n",
        "type(empty_dict)"
      ]
    },
    {
      "cell_type": "code",
      "execution_count": null,
      "metadata": {
        "ExecuteTime": {
          "end_time": "2022-02-20T12:02:51.860844Z",
          "start_time": "2022-02-20T12:02:51.846396Z"
        },
        "id": "bUbbQdKrCL7x",
        "outputId": "aeaf4ce0-5355-494e-c77c-72da23f8845c"
      },
      "outputs": [
        {
          "data": {
            "text/plain": [
              "{'tomato': 5, 'oats': 6, 'onion': 7}"
            ]
          },
          "execution_count": 93,
          "metadata": {},
          "output_type": "execute_result"
        }
      ],
      "source": [
        "shopping_cart = { \"tomato\": 5,\n",
        " \"oats\" : 6,\n",
        " \"onion\" : 7}\n",
        "shopping_cart"
      ]
    },
    {
      "cell_type": "code",
      "execution_count": null,
      "metadata": {
        "ExecuteTime": {
          "end_time": "2022-02-20T12:02:54.116850Z",
          "start_time": "2022-02-20T12:02:54.098586Z"
        },
        "id": "QsFjgxp3CL7x",
        "outputId": "732bd93a-51f5-41e3-80b1-9b91d2e5fcf1"
      },
      "outputs": [
        {
          "data": {
            "text/plain": [
              "{1: 'Karunasagar', 2: 'Kani', 3: 'Kavi'}"
            ]
          },
          "execution_count": 94,
          "metadata": {},
          "output_type": "execute_result"
        }
      ],
      "source": [
        "Learner_1 = {1:\"Karunasagar\", 2:\"Kani\",3:\"Kavi\"}\n",
        "Learner_1"
      ]
    },
    {
      "cell_type": "code",
      "execution_count": null,
      "metadata": {
        "ExecuteTime": {
          "end_time": "2022-02-20T12:03:01.115978Z",
          "start_time": "2022-02-20T12:03:01.103664Z"
        },
        "id": "63loy5UzCL7x",
        "outputId": "a270ef99-990d-42e6-dbe7-1b457c3398d3"
      },
      "outputs": [
        {
          "data": {
            "text/plain": [
              "dict"
            ]
          },
          "execution_count": 95,
          "metadata": {},
          "output_type": "execute_result"
        }
      ],
      "source": [
        "type(Learner_1)"
      ]
    },
    {
      "cell_type": "code",
      "execution_count": null,
      "metadata": {
        "ExecuteTime": {
          "end_time": "2022-02-20T11:46:59.345964Z",
          "start_time": "2022-02-20T11:46:55.587Z"
        },
        "id": "AvLNtA6HCL7y"
      },
      "outputs": [],
      "source": [
        "Learner_1.keys()"
      ]
    },
    {
      "cell_type": "code",
      "execution_count": null,
      "metadata": {
        "ExecuteTime": {
          "end_time": "2022-02-20T11:46:59.347399Z",
          "start_time": "2022-02-20T11:46:55.589Z"
        },
        "id": "mgVZnJBbCL7y"
      },
      "outputs": [],
      "source": [
        "Learner_1.values()"
      ]
    },
    {
      "cell_type": "code",
      "execution_count": null,
      "metadata": {
        "ExecuteTime": {
          "end_time": "2022-02-20T11:46:59.348865Z",
          "start_time": "2022-02-20T11:46:55.591Z"
        },
        "id": "OcJbMZefCL7y"
      },
      "outputs": [],
      "source": [
        "Learner_1.update({3:\"Karuna\"})\n",
        "Learner_1\n"
      ]
    },
    {
      "cell_type": "code",
      "execution_count": null,
      "metadata": {
        "ExecuteTime": {
          "end_time": "2022-02-20T11:46:59.350269Z",
          "start_time": "2022-02-20T11:46:55.593Z"
        },
        "id": "KkqPlU8vCL7z"
      },
      "outputs": [],
      "source": [
        "participants = { \"Name\":[\"Karuna\",\"Senthil\",\"Kamesh\",\"Durkee\"],\n",
        "                \"Age\":[25,24,23,26],\n",
        "                \"Hobby\":[\"Reading\",\"Playing\",\"movies\",\"TV\"]}\n",
        "participants"
      ]
    },
    {
      "cell_type": "code",
      "execution_count": null,
      "metadata": {
        "ExecuteTime": {
          "end_time": "2022-02-20T11:46:59.351299Z",
          "start_time": "2022-02-20T11:46:55.596Z"
        },
        "id": "mkAz-GJdCL7z"
      },
      "outputs": [],
      "source": [
        "import pandas as pd\n",
        "pd.DataFrame(participants)"
      ]
    },
    {
      "cell_type": "code",
      "execution_count": null,
      "metadata": {
        "id": "bFTmO7KoCL7z"
      },
      "outputs": [],
      "source": [
        ""
      ]
    }
  ],
  "metadata": {
    "gist": {
      "data": {
        "description": "Untitled.ipynb",
        "public": true
      },
      "id": ""
    },
    "hide_input": false,
    "kernelspec": {
      "display_name": "Python 3",
      "language": "python",
      "name": "python3"
    },
    "language_info": {
      "codemirror_mode": {
        "name": "ipython",
        "version": 3
      },
      "file_extension": ".py",
      "mimetype": "text/x-python",
      "name": "python",
      "nbconvert_exporter": "python",
      "pygments_lexer": "ipython3",
      "version": "3.8.3"
    },
    "latex_envs": {
      "LaTeX_envs_menu_present": true,
      "autoclose": false,
      "autocomplete": true,
      "bibliofile": "biblio.bib",
      "cite_by": "apalike",
      "current_citInitial": 1,
      "eqLabelWithNumbers": true,
      "eqNumInitial": 1,
      "hotkeys": {
        "equation": "Ctrl-E",
        "itemize": "Ctrl-I"
      },
      "labels_anchors": false,
      "latex_user_defs": false,
      "report_style_numbering": false,
      "user_envs_cfg": false
    },
    "colab": {
      "name": "TASK-3.ipynb",
      "provenance": [],
      "include_colab_link": true
    }
  },
  "nbformat": 4,
  "nbformat_minor": 0
}