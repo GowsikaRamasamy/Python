{
  "cells": [
    {
      "cell_type": "markdown",
      "metadata": {
        "id": "view-in-github",
        "colab_type": "text"
      },
      "source": [
        "<a href=\"https://colab.research.google.com/github/Karunasagar-K/Python/blob/main/Revision_python_1.ipynb\" target=\"_parent\"><img src=\"https://colab.research.google.com/assets/colab-badge.svg\" alt=\"Open In Colab\"/></a>"
      ]
    },
    {
      "cell_type": "markdown",
      "metadata": {
        "id": "H5n4wUPbvMtc"
      },
      "source": [
        "## Chapter-1 First program "
      ]
    },
    {
      "cell_type": "markdown",
      "metadata": {
        "id": "oXyUbgZyvMtj"
      },
      "source": [
        "### 1.a.Hello word"
      ]
    },
    {
      "cell_type": "code",
      "execution_count": null,
      "metadata": {
        "ExecuteTime": {
          "end_time": "2022-02-18T17:31:41.136377Z",
          "start_time": "2022-02-18T17:31:41.120636Z"
        },
        "colab": {
          "base_uri": "https://localhost:8080/"
        },
        "id": "Vohm8rzovMtk",
        "outputId": "be94bda9-062b-4d1a-8b7e-06e9c3b1e9dc"
      },
      "outputs": [
        {
          "output_type": "stream",
          "name": "stdout",
          "text": [
            "Periyar\n"
          ]
        }
      ],
      "source": [
        "print('Periyar')"
      ]
    },
    {
      "cell_type": "code",
      "execution_count": null,
      "metadata": {
        "ExecuteTime": {
          "end_time": "2022-02-18T17:31:41.443906Z",
          "start_time": "2022-02-18T17:31:41.439209Z"
        },
        "colab": {
          "base_uri": "https://localhost:8080/"
        },
        "id": "uJtwgWIpvMto",
        "outputId": "1da28b06-02d0-44d5-ec0e-34acd235f70e"
      },
      "outputs": [
        {
          "output_type": "stream",
          "name": "stdout",
          "text": [
            "Anna\n"
          ]
        }
      ],
      "source": [
        "print(\"Anna\")"
      ]
    },
    {
      "cell_type": "code",
      "execution_count": null,
      "metadata": {
        "ExecuteTime": {
          "end_time": "2022-02-18T17:31:41.770328Z",
          "start_time": "2022-02-18T17:31:41.760553Z"
        },
        "colab": {
          "base_uri": "https://localhost:8080/"
        },
        "id": "e7c-bHzUvMtp",
        "outputId": "9b9eb559-a582-4cd8-dbe4-cc66b7ad6653"
      },
      "outputs": [
        {
          "output_type": "stream",
          "name": "stdout",
          "text": [
            "Kalaingar\n"
          ]
        }
      ],
      "source": [
        "print('''Kalaingar''')"
      ]
    },
    {
      "cell_type": "markdown",
      "metadata": {
        "id": "K9KUt5T4vMtq"
      },
      "source": [
        "### 1.b.Creating the variable\n",
        "### Variable is nothing but a memory location to store the values.\n"
      ]
    },
    {
      "cell_type": "code",
      "execution_count": null,
      "metadata": {
        "ExecuteTime": {
          "end_time": "2022-02-18T17:31:42.873615Z",
          "start_time": "2022-02-18T17:31:42.855877Z"
        },
        "id": "poTGuAWbvMts"
      },
      "outputs": [],
      "source": [
        "a=\"Aringar Anna is my Leader\""
      ]
    },
    {
      "cell_type": "code",
      "execution_count": null,
      "metadata": {
        "ExecuteTime": {
          "end_time": "2022-02-18T17:31:43.392064Z",
          "start_time": "2022-02-18T17:31:43.385778Z"
        },
        "colab": {
          "base_uri": "https://localhost:8080/",
          "height": 35
        },
        "id": "gE1mKJIFvMtt",
        "outputId": "d9b4f5c8-b9be-4444-b79e-aa354755ff6e"
      },
      "outputs": [
        {
          "output_type": "execute_result",
          "data": {
            "application/vnd.google.colaboratory.intrinsic+json": {
              "type": "string"
            },
            "text/plain": [
              "'Aringar Anna is my Leader'"
            ]
          },
          "metadata": {},
          "execution_count": 9
        }
      ],
      "source": [
        "a"
      ]
    },
    {
      "cell_type": "code",
      "execution_count": null,
      "metadata": {
        "ExecuteTime": {
          "end_time": "2022-02-18T17:31:43.985172Z",
          "start_time": "2022-02-18T17:31:43.976931Z"
        },
        "id": "6_qtiQrKvMtv"
      },
      "outputs": [],
      "source": [
        "Team=[\"Red\",\"Blue\",\"Green\",\"Yellow\"]"
      ]
    },
    {
      "cell_type": "code",
      "execution_count": null,
      "metadata": {
        "ExecuteTime": {
          "end_time": "2022-02-18T17:31:45.962645Z",
          "start_time": "2022-02-18T17:31:45.950399Z"
        },
        "colab": {
          "base_uri": "https://localhost:8080/",
          "height": 35
        },
        "id": "oA42xiBhvMtw",
        "outputId": "8c18f9ea-5801-4b51-940a-f9c7af7a41b9"
      },
      "outputs": [
        {
          "output_type": "execute_result",
          "data": {
            "application/vnd.google.colaboratory.intrinsic+json": {
              "type": "string"
            },
            "text/plain": [
              "'Green'"
            ]
          },
          "metadata": {},
          "execution_count": 11
        }
      ],
      "source": [
        "Team[2]"
      ]
    },
    {
      "cell_type": "code",
      "execution_count": null,
      "metadata": {
        "ExecuteTime": {
          "end_time": "2022-02-18T17:31:46.352483Z",
          "start_time": "2022-02-18T17:31:46.332212Z"
        },
        "colab": {
          "base_uri": "https://localhost:8080/"
        },
        "id": "gIbN-1tAvMtx",
        "outputId": "13dc2627-97e0-4ed2-ad2f-50a613ad8c9c"
      },
      "outputs": [
        {
          "output_type": "execute_result",
          "data": {
            "text/plain": [
              "4"
            ]
          },
          "metadata": {},
          "execution_count": 12
        }
      ],
      "source": [
        "len(Team)"
      ]
    },
    {
      "cell_type": "markdown",
      "metadata": {
        "id": "D3wh7HGBvMt8"
      },
      "source": [
        "## Chapter-2 String and string methods\n",
        "### Enclosed within quotes i.e collection of data, characters, or words"
      ]
    },
    {
      "cell_type": "markdown",
      "metadata": {
        "id": "NgylNAUcvMt9"
      },
      "source": [
        "### Data types- 3types\n",
        "#### 1.int- numbers without decimals\n",
        "#### 2.float-numbers with decimals\n",
        "#### 3.string-enclosed within the quotes\n"
      ]
    },
    {
      "cell_type": "markdown",
      "metadata": {
        "ExecuteTime": {
          "end_time": "2022-02-16T11:54:05.501381Z",
          "start_time": "2022-02-16T11:54:05.488747Z"
        },
        "id": "yKrWMHS1vMt-"
      },
      "source": [
        "### 2.a. what is string?"
      ]
    },
    {
      "cell_type": "code",
      "execution_count": null,
      "metadata": {
        "ExecuteTime": {
          "end_time": "2022-02-18T17:31:48.028828Z",
          "start_time": "2022-02-18T17:31:48.014444Z"
        },
        "colab": {
          "base_uri": "https://localhost:8080/"
        },
        "id": "B4_YyTvevMt-",
        "outputId": "ff803dd8-ab94-4774-e16c-4cf239c41887"
      },
      "outputs": [
        {
          "output_type": "execute_result",
          "data": {
            "text/plain": [
              "int"
            ]
          },
          "metadata": {},
          "execution_count": 13
        }
      ],
      "source": [
        "score = 98\n",
        "type(score)"
      ]
    },
    {
      "cell_type": "code",
      "execution_count": null,
      "metadata": {
        "ExecuteTime": {
          "end_time": "2022-02-18T17:31:48.451409Z",
          "start_time": "2022-02-18T17:31:48.431882Z"
        },
        "colab": {
          "base_uri": "https://localhost:8080/"
        },
        "id": "oiZsipb1vMt_",
        "outputId": "8e98c485-0876-4c10-d194-08435549b852"
      },
      "outputs": [
        {
          "output_type": "execute_result",
          "data": {
            "text/plain": [
              "float"
            ]
          },
          "metadata": {},
          "execution_count": 114
        }
      ],
      "source": [
        "score=98.5\n",
        "type(score)"
      ]
    },
    {
      "cell_type": "code",
      "execution_count": null,
      "metadata": {
        "ExecuteTime": {
          "end_time": "2022-02-18T17:31:48.872608Z",
          "start_time": "2022-02-18T17:31:48.864403Z"
        },
        "colab": {
          "base_uri": "https://localhost:8080/"
        },
        "id": "wLcFzrFMvMuA",
        "outputId": "73c3de54-ff15-4789-b7c7-b765b880a1e7"
      },
      "outputs": [
        {
          "output_type": "execute_result",
          "data": {
            "text/plain": [
              "str"
            ]
          },
          "metadata": {},
          "execution_count": 15
        }
      ],
      "source": [
        "name = 'Karunas'\n",
        "type(name)"
      ]
    },
    {
      "cell_type": "code",
      "execution_count": null,
      "metadata": {
        "ExecuteTime": {
          "end_time": "2022-02-18T17:32:45.395300Z",
          "start_time": "2022-02-18T17:32:45.382650Z"
        },
        "id": "O3K5TAIavMuA"
      },
      "outputs": [],
      "source": [
        "SNSCT_1 =\"Senthil\"\n",
        "SNSCT_2=\"Kamesh\"\n",
        "SNSCT_3=\"Karuna\""
      ]
    },
    {
      "cell_type": "markdown",
      "metadata": {
        "id": "5srk0TOWvMuB"
      },
      "source": [
        "* Methods/Functions - some operation which I wanted to perform on my data. For eg, addition, length of characters, captilize, upper case, and so on..\n",
        "\n",
        "### PTR - Methods/Functions always ends with ()."
      ]
    },
    {
      "cell_type": "code",
      "execution_count": null,
      "metadata": {
        "ExecuteTime": {
          "end_time": "2022-02-18T17:35:03.723578Z",
          "start_time": "2022-02-18T17:35:03.705943Z"
        },
        "colab": {
          "base_uri": "https://localhost:8080/",
          "height": 35
        },
        "id": "VfyIY6KXvMuC",
        "outputId": "987aad99-6b5f-4df0-edda-32dbff351b08"
      },
      "outputs": [
        {
          "output_type": "execute_result",
          "data": {
            "application/vnd.google.colaboratory.intrinsic+json": {
              "type": "string"
            },
            "text/plain": [
              "'Senthil'"
            ]
          },
          "metadata": {},
          "execution_count": 17
        }
      ],
      "source": [
        "SNSCT_1.capitalize()"
      ]
    },
    {
      "cell_type": "code",
      "execution_count": null,
      "metadata": {
        "ExecuteTime": {
          "end_time": "2022-02-18T17:35:19.118348Z",
          "start_time": "2022-02-18T17:35:19.102299Z"
        },
        "colab": {
          "base_uri": "https://localhost:8080/",
          "height": 35
        },
        "id": "0rSuH57gvMuC",
        "outputId": "76f93b72-be73-4081-fb87-4eb19b4c0215"
      },
      "outputs": [
        {
          "output_type": "execute_result",
          "data": {
            "application/vnd.google.colaboratory.intrinsic+json": {
              "type": "string"
            },
            "text/plain": [
              "'SENTHIL'"
            ]
          },
          "metadata": {},
          "execution_count": 18
        }
      ],
      "source": [
        "SNSCT_1.upper()"
      ]
    },
    {
      "cell_type": "markdown",
      "metadata": {
        "id": "iuD26_S_vMuD"
      },
      "source": [
        "### Task-1\n",
        "* More practice"
      ]
    },
    {
      "cell_type": "markdown",
      "metadata": {
        "id": "Z4giLSCbvMuD"
      },
      "source": [
        "### 2.b. concatenation and slicing"
      ]
    },
    {
      "cell_type": "code",
      "execution_count": null,
      "metadata": {
        "ExecuteTime": {
          "end_time": "2022-02-18T17:41:08.175933Z",
          "start_time": "2022-02-18T17:41:08.166785Z"
        },
        "id": "2ZJvrB9YvMuE"
      },
      "outputs": [],
      "source": [
        "fname=\"Karuna\"\n",
        "lname=\"sagar\""
      ]
    },
    {
      "cell_type": "code",
      "execution_count": null,
      "metadata": {
        "ExecuteTime": {
          "end_time": "2022-02-18T17:41:47.746212Z",
          "start_time": "2022-02-18T17:41:47.733260Z"
        },
        "colab": {
          "base_uri": "https://localhost:8080/"
        },
        "id": "50lugY_BvMuE",
        "outputId": "2344c0c2-8f92-4cd6-9966-3216c670210e"
      },
      "outputs": [
        {
          "output_type": "stream",
          "name": "stdout",
          "text": [
            "Karuna\n",
            "sagar\n"
          ]
        }
      ],
      "source": [
        "print(fname)\n",
        "print(lname)"
      ]
    },
    {
      "cell_type": "code",
      "execution_count": null,
      "metadata": {
        "ExecuteTime": {
          "end_time": "2022-02-18T17:42:06.291564Z",
          "start_time": "2022-02-18T17:42:06.279607Z"
        },
        "colab": {
          "base_uri": "https://localhost:8080/"
        },
        "id": "o45rXbo0vMuE",
        "outputId": "375d93cd-ec75-4632-df2e-0d5ec4fa4f6c"
      },
      "outputs": [
        {
          "output_type": "stream",
          "name": "stdout",
          "text": [
            "Karuna sagar\n"
          ]
        }
      ],
      "source": [
        "print(fname,lname)"
      ]
    },
    {
      "cell_type": "code",
      "execution_count": null,
      "metadata": {
        "ExecuteTime": {
          "end_time": "2022-02-18T17:54:23.275793Z",
          "start_time": "2022-02-18T17:54:23.267646Z"
        },
        "colab": {
          "base_uri": "https://localhost:8080/"
        },
        "id": "blHDmcozvMuF",
        "outputId": "10a38776-70d9-4cea-a0cc-0d4205552fb8"
      },
      "outputs": [
        {
          "output_type": "stream",
          "name": "stdout",
          "text": [
            "First name:  Karuna \n",
            "Last name:  sagar\n"
          ]
        }
      ],
      "source": [
        "print(\"First name: \",fname ,\"\\nLast name: \",lname) #escape sequences"
      ]
    },
    {
      "cell_type": "code",
      "execution_count": null,
      "metadata": {
        "ExecuteTime": {
          "end_time": "2022-02-18T17:54:24.039690Z",
          "start_time": "2022-02-18T17:54:24.024825Z"
        },
        "id": "1Ef1ZZWCvMuF"
      },
      "outputs": [],
      "source": [
        "Quote = \"Tap the rich and pat the poor\""
      ]
    },
    {
      "cell_type": "code",
      "execution_count": null,
      "metadata": {
        "ExecuteTime": {
          "end_time": "2022-02-18T17:54:30.595777Z",
          "start_time": "2022-02-18T17:54:30.580939Z"
        },
        "colab": {
          "base_uri": "https://localhost:8080/",
          "height": 35
        },
        "id": "0iXFJ8eXvMuF",
        "outputId": "00916503-8957-4fa0-e888-a8f72f706de8"
      },
      "outputs": [
        {
          "output_type": "execute_result",
          "data": {
            "application/vnd.google.colaboratory.intrinsic+json": {
              "type": "string"
            },
            "text/plain": [
              "' the rich and pat the poor'"
            ]
          },
          "metadata": {},
          "execution_count": 24
        }
      ],
      "source": [
        "Quote[3:]"
      ]
    },
    {
      "cell_type": "code",
      "execution_count": null,
      "metadata": {
        "ExecuteTime": {
          "end_time": "2022-02-18T18:04:11.205118Z",
          "start_time": "2022-02-18T18:04:11.187301Z"
        },
        "colab": {
          "base_uri": "https://localhost:8080/"
        },
        "id": "jzjXTuNYvMuG",
        "outputId": "6a1b56cf-b778-4941-9d5c-6162b8bf2661"
      },
      "outputs": [
        {
          "output_type": "execute_result",
          "data": {
            "text/plain": [
              "8"
            ]
          },
          "metadata": {},
          "execution_count": 25
        }
      ],
      "source": [
        "Quote.find(\"rich\")"
      ]
    },
    {
      "cell_type": "code",
      "execution_count": null,
      "metadata": {
        "ExecuteTime": {
          "end_time": "2022-02-18T18:12:18.610491Z",
          "start_time": "2022-02-18T18:12:18.595569Z"
        },
        "colab": {
          "base_uri": "https://localhost:8080/"
        },
        "id": "g_qBCO_kvMuG",
        "outputId": "99ca7f0e-4d42-45ba-a6ed-59598144dca1"
      },
      "outputs": [
        {
          "output_type": "stream",
          "name": "stdout",
          "text": [
            "Anna became the Chief minister of Tamilnadu in 1967\n"
          ]
        }
      ],
      "source": [
        "year = 1967\n",
        "Name= 'Anna'\n",
        "print(Name+' became the Chief minister of Tamilnadu in ' + str(year))\n",
        "#typecasting-Forcefully converting the inte data type into str data type"
      ]
    },
    {
      "cell_type": "code",
      "execution_count": null,
      "metadata": {
        "ExecuteTime": {
          "end_time": "2022-02-18T18:13:03.535479Z",
          "start_time": "2022-02-18T18:13:03.524300Z"
        },
        "colab": {
          "base_uri": "https://localhost:8080/"
        },
        "id": "5dbBqC5kvMuG",
        "outputId": "402b2855-1773-4aa2-b05a-7ce530baf39d"
      },
      "outputs": [
        {
          "output_type": "stream",
          "name": "stdout",
          "text": [
            "Anna  became the Chief minister of Tamilnadu in  1967\n"
          ]
        }
      ],
      "source": [
        "year = 1967\n",
        "Name= 'Anna'\n",
        "print(Name,' became the Chief minister of Tamilnadu in ' ,year)"
      ]
    },
    {
      "cell_type": "markdown",
      "metadata": {
        "id": "IDIhLvfHvMuH"
      },
      "source": [
        "### 2.C Interact with user input"
      ]
    },
    {
      "cell_type": "code",
      "execution_count": null,
      "metadata": {
        "ExecuteTime": {
          "end_time": "2022-02-18T18:55:44.210941Z",
          "start_time": "2022-02-18T18:55:41.976008Z"
        },
        "colab": {
          "base_uri": "https://localhost:8080/"
        },
        "id": "o0kMMdLevMuH",
        "outputId": "7676548d-ac2a-4f4d-83af-d36ddf9391e4"
      },
      "outputs": [
        {
          "output_type": "stream",
          "name": "stdout",
          "text": [
            "username:Karunasagar\n",
            "Username starts with  K\n"
          ]
        }
      ],
      "source": [
        "username=input('username:')\n",
        "print(\"Username starts with \",username[0])"
      ]
    },
    {
      "cell_type": "markdown",
      "metadata": {
        "id": "HnzCNFcavMuH"
      },
      "source": [
        "### 2.d Streamine your print statements\n",
        "*"
      ]
    },
    {
      "cell_type": "code",
      "execution_count": null,
      "metadata": {
        "ExecuteTime": {
          "end_time": "2022-02-18T19:04:23.918848Z",
          "start_time": "2022-02-18T19:04:09.548443Z"
        },
        "id": "HQunETB9vMuH"
      },
      "outputs": [],
      "source": [
        "fname=input('enter your first name:')\n",
        "lname=input('enter your last name:')\n",
        "print('first name - {} \\nlast name - {}'.format(fname,lname))"
      ]
    },
    {
      "cell_type": "markdown",
      "metadata": {
        "id": "3rgp9cntvMuI"
      },
      "source": [
        "## Chapter-3 Numbers in python"
      ]
    },
    {
      "cell_type": "code",
      "execution_count": null,
      "metadata": {
        "ExecuteTime": {
          "end_time": "2022-02-18T19:08:05.105096Z",
          "start_time": "2022-02-18T19:08:02.011077Z"
        },
        "colab": {
          "base_uri": "https://localhost:8080/"
        },
        "id": "dtwi93dbvMuI",
        "outputId": "132ab6f4-de46-4f8d-c52c-41f512f745bd"
      },
      "outputs": [
        {
          "name": "stdout",
          "output_type": "stream",
          "text": [
            "enter the marks:100\n"
          ]
        }
      ],
      "source": [
        "marks=int(input('enter the marks:'))"
      ]
    },
    {
      "cell_type": "code",
      "execution_count": null,
      "metadata": {
        "ExecuteTime": {
          "end_time": "2022-02-18T19:08:54.216800Z",
          "start_time": "2022-02-18T19:08:54.190081Z"
        },
        "colab": {
          "base_uri": "https://localhost:8080/"
        },
        "id": "jrXCwApqvMuI",
        "outputId": "3d5d27eb-5d5e-47e9-faf5-0f4b3cb00a05"
      },
      "outputs": [
        {
          "output_type": "execute_result",
          "data": {
            "text/plain": [
              "int"
            ]
          },
          "metadata": {},
          "execution_count": 33
        }
      ],
      "source": [
        "type(marks)"
      ]
    },
    {
      "cell_type": "code",
      "execution_count": null,
      "metadata": {
        "ExecuteTime": {
          "end_time": "2022-02-18T19:09:15.428589Z",
          "start_time": "2022-02-18T19:09:15.411678Z"
        },
        "id": "ItnDKBmdvMuJ"
      },
      "outputs": [],
      "source": [
        "#abs()-absolute number"
      ]
    },
    {
      "cell_type": "code",
      "execution_count": null,
      "metadata": {
        "ExecuteTime": {
          "end_time": "2022-02-18T19:10:03.804569Z",
          "start_time": "2022-02-18T19:10:00.766400Z"
        },
        "colab": {
          "base_uri": "https://localhost:8080/"
        },
        "id": "XRmnlXyFvMuJ",
        "outputId": "3454f012-a893-4753-aff1-513424e9559f"
      },
      "outputs": [
        {
          "name": "stdout",
          "output_type": "stream",
          "text": [
            "enter the marks:-100\n"
          ]
        },
        {
          "output_type": "execute_result",
          "data": {
            "text/plain": [
              "100"
            ]
          },
          "metadata": {},
          "execution_count": 35
        }
      ],
      "source": [
        "marks=abs(int(input('enter the marks:')))\n",
        "marks"
      ]
    },
    {
      "cell_type": "markdown",
      "metadata": {
        "id": "937f5810"
      },
      "source": [
        "## Chapter 4 - Functions and Loops\n",
        "\n",
        "3 Types of functions:\n",
        "1. Predefined Functions/Builtin Functions  - these functions are already defined and will get installed when installing Anaconda Navigator. \n",
        "2. User defined Functions - customized function which user can define.\n",
        "3. Anonomyous Functions - It is a nameless function used to accomplish 1 operation at once."
      ]
    },
    {
      "cell_type": "code",
      "execution_count": null,
      "metadata": {
        "ExecuteTime": {
          "end_time": "2022-02-18T19:17:40.434261Z",
          "start_time": "2022-02-18T19:17:40.417998Z"
        },
        "colab": {
          "base_uri": "https://localhost:8080/"
        },
        "id": "zvCiB42ovMuK",
        "outputId": "41db5681-157f-44ba-f467-48a206f4f1d4"
      },
      "outputs": [
        {
          "output_type": "execute_result",
          "data": {
            "text/plain": [
              "8"
            ]
          },
          "metadata": {},
          "execution_count": 36
        }
      ],
      "source": [
        "#Build-in Function\n",
        "len(fname)"
      ]
    },
    {
      "cell_type": "markdown",
      "source": [
        "### Simple user defined function"
      ],
      "metadata": {
        "id": "XRtd759r_uSU"
      }
    },
    {
      "cell_type": "code",
      "execution_count": null,
      "metadata": {
        "ExecuteTime": {
          "end_time": "2022-02-18T19:21:45.643320Z",
          "start_time": "2022-02-18T19:21:45.631018Z"
        },
        "id": "EU--PxufvMuK"
      },
      "outputs": [],
      "source": [
        "#user defined function\n",
        "def get_details():\n",
        "    print(\"Welcome to TN\")\n",
        "    print(\"Welcome to IND\")\n"
      ]
    },
    {
      "cell_type": "code",
      "execution_count": null,
      "metadata": {
        "ExecuteTime": {
          "end_time": "2022-02-18T19:21:47.608495Z",
          "start_time": "2022-02-18T19:21:47.594388Z"
        },
        "colab": {
          "base_uri": "https://localhost:8080/"
        },
        "id": "PRmJIiV-vMuK",
        "outputId": "7f3651d0-8ff2-4106-9504-52b635cd24af"
      },
      "outputs": [
        {
          "output_type": "stream",
          "name": "stdout",
          "text": [
            "Welcome to TN\n",
            "Welcome to IND\n"
          ]
        }
      ],
      "source": [
        "get_details()    "
      ]
    },
    {
      "cell_type": "markdown",
      "source": [
        "### Positional Arguments"
      ],
      "metadata": {
        "id": "V-_6ZBDr_1Lc"
      }
    },
    {
      "cell_type": "code",
      "execution_count": null,
      "metadata": {
        "id": "LiRLenA8vMuL"
      },
      "outputs": [],
      "source": [
        "#using a function\n",
        "def Player_details(name,age,team):#arguments\n",
        "  print(\"Name:\",name)\n",
        "  print(\"age:\",age)\n",
        "  print(\"team:\",team)\n"
      ]
    },
    {
      "cell_type": "code",
      "source": [
        "#calling a function\n",
        "Player_details(\"Karunasagar\",25,\"SNS\")"
      ],
      "metadata": {
        "colab": {
          "base_uri": "https://localhost:8080/"
        },
        "id": "Vk2OpIFVAdqr",
        "outputId": "555df40e-a65f-4648-874e-c375d57d0c7b"
      },
      "execution_count": null,
      "outputs": [
        {
          "output_type": "stream",
          "name": "stdout",
          "text": [
            "Name: Karunasagar\n",
            "age: 25\n",
            "team: SNS\n"
          ]
        }
      ]
    },
    {
      "cell_type": "markdown",
      "source": [
        "### Default Arguments\n"
      ],
      "metadata": {
        "id": "CmYkj6vqA92f"
      }
    },
    {
      "cell_type": "code",
      "source": [
        "#using a function\n",
        "def Player_details(name,age,team=\"SNS\"):#arguments\n",
        "  print(\"Name:\",name)\n",
        "  print(\"age:\",age)\n",
        "  print(\"team:\",team)"
      ],
      "metadata": {
        "id": "x1bMR5ggAjjq"
      },
      "execution_count": null,
      "outputs": []
    },
    {
      "cell_type": "code",
      "source": [
        "Player_details(\"Naveen\",23)"
      ],
      "metadata": {
        "colab": {
          "base_uri": "https://localhost:8080/"
        },
        "id": "iM2O9gSnBGxV",
        "outputId": "2b11e17c-4e05-4faa-ae4f-01cacc6d809c"
      },
      "execution_count": null,
      "outputs": [
        {
          "output_type": "stream",
          "name": "stdout",
          "text": [
            "Name: Naveen\n",
            "age: 23\n",
            "team: SNS\n"
          ]
        }
      ]
    },
    {
      "cell_type": "code",
      "source": [
        "Player_details(\"Mani\",22,\"SNR\")"
      ],
      "metadata": {
        "colab": {
          "base_uri": "https://localhost:8080/"
        },
        "id": "rFYUgK60BLos",
        "outputId": "55219092-d2de-4a55-b19c-c083ebb082df"
      },
      "execution_count": null,
      "outputs": [
        {
          "output_type": "stream",
          "name": "stdout",
          "text": [
            "Name: Mani\n",
            "age: 22\n",
            "team: SNR\n"
          ]
        }
      ]
    },
    {
      "cell_type": "markdown",
      "source": [
        "### Variable -Length Arguments"
      ],
      "metadata": {
        "id": "iKnXUQWUBh0H"
      }
    },
    {
      "cell_type": "code",
      "source": [
        "#using a function\n",
        "def Player_details(name,age,*team):#arguments\n",
        "  print(\"Name:\",name)\n",
        "  print(\"age:\",age)\n",
        "  print(\"team:\",team)"
      ],
      "metadata": {
        "id": "nV68eGrrBVg8"
      },
      "execution_count": null,
      "outputs": []
    },
    {
      "cell_type": "code",
      "source": [
        "Player_details(\"Theeji\",22,\"VHMS\",\"VHS\",\"SNS\",\"HCL\")"
      ],
      "metadata": {
        "colab": {
          "base_uri": "https://localhost:8080/"
        },
        "id": "3pJYX70tBoNF",
        "outputId": "fb9b0bc2-ff23-4589-ec07-cf874bf3ea75"
      },
      "execution_count": null,
      "outputs": [
        {
          "output_type": "stream",
          "name": "stdout",
          "text": [
            "Name: Theeji\n",
            "age: 22\n",
            "team: ('VHMS', 'VHS', 'SNS', 'HCL')\n"
          ]
        }
      ]
    },
    {
      "cell_type": "markdown",
      "source": [
        "### Keyword Arguments"
      ],
      "metadata": {
        "id": "KRosTGy2CGpa"
      }
    },
    {
      "cell_type": "code",
      "source": [
        "#using a function\n",
        "def Player_details(name,age,**team):#arguments\n",
        "  print(\"Name:\",name)\n",
        "  print(\"age:\",age)\n",
        "  print(\"team:\",team)"
      ],
      "metadata": {
        "id": "t9zTeclSCBK-"
      },
      "execution_count": null,
      "outputs": []
    },
    {
      "cell_type": "code",
      "source": [
        "Player_details(\"Keerthi\",23,team1=\"GHS\",team2=\"KHS\",team3=\"SNSCT\",team4=\"Namakkal\")"
      ],
      "metadata": {
        "colab": {
          "base_uri": "https://localhost:8080/"
        },
        "id": "oFzWTZPjCOLP",
        "outputId": "f2a44703-0801-4f00-8378-2ed4d5325f12"
      },
      "execution_count": null,
      "outputs": [
        {
          "output_type": "stream",
          "name": "stdout",
          "text": [
            "Name: Keerthi\n",
            "age: 23\n",
            "team: {'team1': 'GHS', 'team2': 'KHS', 'team3': 'SNSCT', 'team4': 'Namakkal'}\n"
          ]
        }
      ]
    },
    {
      "cell_type": "code",
      "source": [
        "#using a function\n",
        "def Player_details(age,*name,**team):#arguments\n",
        "  print(\"Name:\",name)\n",
        "  print(\"age:\",age)\n",
        "  print(\"team:\",team)"
      ],
      "metadata": {
        "id": "aRyKIfNGChKe"
      },
      "execution_count": null,
      "outputs": []
    },
    {
      "cell_type": "code",
      "source": [
        "Player_details(22,\"KS\",\"SK\",team1=\"GHS\",team2=\"KHS\",team3=\"SNSCT\",team4=\"Namakkal\")"
      ],
      "metadata": {
        "colab": {
          "base_uri": "https://localhost:8080/"
        },
        "id": "heYFPpclCza_",
        "outputId": "ec6a8ac5-c4e7-4ae4-e397-42e904d533b9"
      },
      "execution_count": null,
      "outputs": [
        {
          "output_type": "stream",
          "name": "stdout",
          "text": [
            "Name: ('KS', 'SK')\n",
            "age: 22\n",
            "team: {'team1': 'GHS', 'team2': 'KHS', 'team3': 'SNSCT', 'team4': 'Namakkal'}\n"
          ]
        }
      ]
    },
    {
      "cell_type": "code",
      "source": [
        "def add(num1,num2):\n",
        "  print(\"Number1:\",num1)\n",
        "  print(\"Number2:\",num2)\n",
        "  return num1+num2\n",
        "  "
      ],
      "metadata": {
        "id": "7k5_poYzC8QQ"
      },
      "execution_count": null,
      "outputs": []
    },
    {
      "cell_type": "code",
      "source": [
        "add(2,4)"
      ],
      "metadata": {
        "colab": {
          "base_uri": "https://localhost:8080/"
        },
        "id": "SHdKwVbUFaWU",
        "outputId": "49298f2f-edf6-4409-f662-de26ed41fd25"
      },
      "execution_count": null,
      "outputs": [
        {
          "output_type": "stream",
          "name": "stdout",
          "text": [
            "Number1: 2\n",
            "Number2: 4\n"
          ]
        },
        {
          "output_type": "execute_result",
          "data": {
            "text/plain": [
              "6"
            ]
          },
          "metadata": {},
          "execution_count": 68
        }
      ]
    },
    {
      "cell_type": "markdown",
      "source": [
        "### 4.b Run in Circles"
      ],
      "metadata": {
        "id": "1nNlXOi0GBWL"
      }
    },
    {
      "cell_type": "code",
      "source": [
        "a=1,2,3,4,5,6,7,8,9,10,11,12,13,14,15\n",
        "a"
      ],
      "metadata": {
        "colab": {
          "base_uri": "https://localhost:8080/"
        },
        "id": "gA8PFIpBFcY0",
        "outputId": "c52c9296-3954-48bf-9f30-6854161c4042"
      },
      "execution_count": null,
      "outputs": [
        {
          "output_type": "execute_result",
          "data": {
            "text/plain": [
              "(1, 2, 3, 4, 5, 6, 7, 8, 9, 10, 11, 12, 13, 14, 15)"
            ]
          },
          "metadata": {},
          "execution_count": 69
        }
      ]
    },
    {
      "cell_type": "code",
      "source": [
        "range(1,101)"
      ],
      "metadata": {
        "colab": {
          "base_uri": "https://localhost:8080/"
        },
        "id": "6UXr9o4fGJ5V",
        "outputId": "084d3463-f573-4482-e2fd-dfacf571ae2e"
      },
      "execution_count": null,
      "outputs": [
        {
          "output_type": "execute_result",
          "data": {
            "text/plain": [
              "range(1, 101)"
            ]
          },
          "metadata": {},
          "execution_count": 70
        }
      ]
    },
    {
      "cell_type": "code",
      "source": [
        "for i in range(1,101,10):\n",
        "  print(i)#i is just variable"
      ],
      "metadata": {
        "colab": {
          "base_uri": "https://localhost:8080/"
        },
        "id": "VEAZQkY1IIwI",
        "outputId": "8bf24c33-b35d-4fce-b181-31a965545cb7"
      },
      "execution_count": null,
      "outputs": [
        {
          "output_type": "stream",
          "name": "stdout",
          "text": [
            "1\n",
            "11\n",
            "21\n",
            "31\n",
            "41\n",
            "51\n",
            "61\n",
            "71\n",
            "81\n",
            "91\n"
          ]
        }
      ]
    },
    {
      "cell_type": "code",
      "source": [
        "#Create a udf with for loop that should return something.\n",
        "def Player_name(name):\n",
        "    for i in name:\n",
        "      print(i)"
      ],
      "metadata": {
        "id": "JLQ_ARYtIhH8"
      },
      "execution_count": null,
      "outputs": []
    },
    {
      "cell_type": "code",
      "source": [
        "Player_name(\"Karunas\")"
      ],
      "metadata": {
        "colab": {
          "base_uri": "https://localhost:8080/"
        },
        "id": "kr57QlRqJqEa",
        "outputId": "ba513d5e-887c-4d92-f96d-4dd5dfc791c2"
      },
      "execution_count": null,
      "outputs": [
        {
          "output_type": "stream",
          "name": "stdout",
          "text": [
            "K\n",
            "a\n",
            "r\n",
            "u\n",
            "n\n",
            "a\n",
            "s\n"
          ]
        }
      ]
    },
    {
      "cell_type": "markdown",
      "source": [
        "## 5.Conditional Logic\n"
      ],
      "metadata": {
        "id": "1smh7MiLKzMf"
      }
    },
    {
      "cell_type": "markdown",
      "source": [
        "### 5.a.Compare values"
      ],
      "metadata": {
        "id": "sdSnYywIK7cv"
      }
    },
    {
      "cell_type": "code",
      "source": [
        "8==8"
      ],
      "metadata": {
        "colab": {
          "base_uri": "https://localhost:8080/"
        },
        "id": "luJNVns9KBJb",
        "outputId": "1e804b80-36ad-4c3c-cba2-165ed296777f"
      },
      "execution_count": null,
      "outputs": [
        {
          "output_type": "execute_result",
          "data": {
            "text/plain": [
              "True"
            ]
          },
          "metadata": {},
          "execution_count": 89
        }
      ]
    },
    {
      "cell_type": "code",
      "source": [
        "8!=5"
      ],
      "metadata": {
        "colab": {
          "base_uri": "https://localhost:8080/"
        },
        "id": "bt8GecVILCpE",
        "outputId": "3ea15c45-880c-4461-d829-bcffb80349c8"
      },
      "execution_count": null,
      "outputs": [
        {
          "output_type": "execute_result",
          "data": {
            "text/plain": [
              "True"
            ]
          },
          "metadata": {},
          "execution_count": 90
        }
      ]
    },
    {
      "cell_type": "code",
      "source": [
        "\"KS\" == \"Ks\""
      ],
      "metadata": {
        "colab": {
          "base_uri": "https://localhost:8080/"
        },
        "id": "j1iokrgBLEst",
        "outputId": "bcc19202-40e4-40df-ec20-9057e4bcb80e"
      },
      "execution_count": null,
      "outputs": [
        {
          "output_type": "execute_result",
          "data": {
            "text/plain": [
              "False"
            ]
          },
          "metadata": {},
          "execution_count": 92
        }
      ]
    },
    {
      "cell_type": "code",
      "source": [
        "4%3"
      ],
      "metadata": {
        "colab": {
          "base_uri": "https://localhost:8080/"
        },
        "id": "9EY2NfxuLIvs",
        "outputId": "2b42f765-48e9-4072-c9b1-a26330acda01"
      },
      "execution_count": null,
      "outputs": [
        {
          "output_type": "execute_result",
          "data": {
            "text/plain": [
              "1"
            ]
          },
          "metadata": {},
          "execution_count": 94
        }
      ]
    },
    {
      "cell_type": "code",
      "source": [
        "4/3"
      ],
      "metadata": {
        "colab": {
          "base_uri": "https://localhost:8080/"
        },
        "id": "JzS4c97PLZT_",
        "outputId": "df431813-4d11-469b-af58-f700a3ebf395"
      },
      "execution_count": null,
      "outputs": [
        {
          "output_type": "execute_result",
          "data": {
            "text/plain": [
              "1.3333333333333333"
            ]
          },
          "metadata": {},
          "execution_count": 95
        }
      ]
    },
    {
      "cell_type": "markdown",
      "metadata": {
        "id": "58fe8662"
      },
      "source": [
        "### >>>>> Different Operators in Python <<<<<<<<<<\n",
        "\n",
        "##### AND Operator - will return True, only if both conditions is True.\n",
        "##### OR Operator - will return True if anyone condition is True.\n",
        "##### IN operator - we use to check if that particular word is available in my data.\n",
        "##### NOT IN operator - we use to check if that particular word is not available in my data."
      ]
    },
    {
      "cell_type": "code",
      "source": [
        "Senthil = 25000\n",
        "Kamesh = 30000\n",
        "Karunas=22000"
      ],
      "metadata": {
        "id": "kSo38vE9MbEu"
      },
      "execution_count": null,
      "outputs": []
    },
    {
      "cell_type": "code",
      "source": [
        "Karunas < Kamesh"
      ],
      "metadata": {
        "colab": {
          "base_uri": "https://localhost:8080/"
        },
        "id": "Ul8ZuhqgMhSP",
        "outputId": "f661185b-9157-4866-cf9c-6c52e9833a99"
      },
      "execution_count": null,
      "outputs": [
        {
          "output_type": "execute_result",
          "data": {
            "text/plain": [
              "True"
            ]
          },
          "metadata": {},
          "execution_count": 98
        }
      ]
    },
    {
      "cell_type": "code",
      "source": [
        "Karunas < Senthil < Kamesh"
      ],
      "metadata": {
        "colab": {
          "base_uri": "https://localhost:8080/"
        },
        "id": "L1YTzawFMnsP",
        "outputId": "b6e6f3a5-69ad-449a-ea67-a9b4f044d3e0"
      },
      "execution_count": null,
      "outputs": [
        {
          "output_type": "execute_result",
          "data": {
            "text/plain": [
              "True"
            ]
          },
          "metadata": {},
          "execution_count": 102
        }
      ]
    },
    {
      "cell_type": "code",
      "source": [
        "Karunas<Senthil and Karunas<Kamesh"
      ],
      "metadata": {
        "colab": {
          "base_uri": "https://localhost:8080/"
        },
        "id": "mKQi8um7Mr7u",
        "outputId": "0ade8dc7-d965-4094-c90a-6b2e15518458"
      },
      "execution_count": null,
      "outputs": [
        {
          "output_type": "execute_result",
          "data": {
            "text/plain": [
              "True"
            ]
          },
          "metadata": {},
          "execution_count": 103
        }
      ]
    },
    {
      "cell_type": "code",
      "source": [
        "Karunas<Kamesh and Senthil<Karunas"
      ],
      "metadata": {
        "colab": {
          "base_uri": "https://localhost:8080/"
        },
        "id": "HqzfZ74yM1f_",
        "outputId": "298fe56e-126b-47d4-c9d6-466bd82136b2"
      },
      "execution_count": null,
      "outputs": [
        {
          "output_type": "execute_result",
          "data": {
            "text/plain": [
              "False"
            ]
          },
          "metadata": {},
          "execution_count": 105
        }
      ]
    },
    {
      "cell_type": "code",
      "source": [
        "Karunas<Senthil or Karunas<Kamesh"
      ],
      "metadata": {
        "colab": {
          "base_uri": "https://localhost:8080/"
        },
        "id": "JbE_9BfNM6ae",
        "outputId": "c92c108c-24a5-4f87-d866-59ec61d29364"
      },
      "execution_count": null,
      "outputs": [
        {
          "output_type": "execute_result",
          "data": {
            "text/plain": [
              "True"
            ]
          },
          "metadata": {},
          "execution_count": 106
        }
      ]
    },
    {
      "cell_type": "code",
      "source": [
        "Karunas>Senthil or Karunas>Kamesh"
      ],
      "metadata": {
        "colab": {
          "base_uri": "https://localhost:8080/"
        },
        "id": "OVBG9x0MNNQP",
        "outputId": "90094d32-3bb5-4b17-b68d-c152bec7e02f"
      },
      "execution_count": null,
      "outputs": [
        {
          "output_type": "execute_result",
          "data": {
            "text/plain": [
              "False"
            ]
          },
          "metadata": {},
          "execution_count": 109
        }
      ]
    },
    {
      "cell_type": "code",
      "source": [
        "Result = \"Our handball team won the match\"\n",
        "Result"
      ],
      "metadata": {
        "colab": {
          "base_uri": "https://localhost:8080/",
          "height": 35
        },
        "id": "Wvuu03nDNO7f",
        "outputId": "e07db247-762a-4fc3-e7af-cea860ee4678"
      },
      "execution_count": null,
      "outputs": [
        {
          "output_type": "execute_result",
          "data": {
            "application/vnd.google.colaboratory.intrinsic+json": {
              "type": "string"
            },
            "text/plain": [
              "'Our handball team won the match'"
            ]
          },
          "metadata": {},
          "execution_count": 111
        }
      ]
    },
    {
      "cell_type": "code",
      "source": [
        "\"won\" in Result"
      ],
      "metadata": {
        "colab": {
          "base_uri": "https://localhost:8080/"
        },
        "id": "vCAsXZyKNmqw",
        "outputId": "345abc49-75c3-4d3e-8ffc-6343e90a7d09"
      },
      "execution_count": null,
      "outputs": [
        {
          "output_type": "execute_result",
          "data": {
            "text/plain": [
              "True"
            ]
          },
          "metadata": {},
          "execution_count": 112
        }
      ]
    },
    {
      "cell_type": "code",
      "source": [
        "\"won\" not in Result"
      ],
      "metadata": {
        "colab": {
          "base_uri": "https://localhost:8080/"
        },
        "id": "PzkMsayfNt4v",
        "outputId": "dd86986c-ebb7-46a5-a410-1457511a4157"
      },
      "execution_count": null,
      "outputs": [
        {
          "output_type": "execute_result",
          "data": {
            "text/plain": [
              "False"
            ]
          },
          "metadata": {},
          "execution_count": 113
        }
      ]
    },
    {
      "cell_type": "markdown",
      "source": [
        "### 5[c] Control the flow of your program"
      ],
      "metadata": {
        "id": "HqNZ3NdaN8uE"
      }
    },
    {
      "cell_type": "code",
      "source": [
        "Password = input(\"Password:\")\n",
        "if len(Password) <5:\n",
        "   print(\"Weak Password\")\n",
        "else :\n",
        "     print(\"Strong Password\")"
      ],
      "metadata": {
        "id": "jyAsZugVTng0",
        "colab": {
          "base_uri": "https://localhost:8080/"
        },
        "outputId": "9e144d44-3248-4c3c-d799-81b2a8fd255f"
      },
      "execution_count": null,
      "outputs": [
        {
          "output_type": "stream",
          "name": "stdout",
          "text": [
            "Password:Karunasagar\n",
            "Strong Password\n"
          ]
        }
      ]
    },
    {
      "cell_type": "markdown",
      "source": [
        "5[d] Challenge to find the factors of a number\n",
        "* Display a message to the user to enter a number\n",
        "* Use for loop\n",
        "* Use if statement\n",
        "* Use print"
      ],
      "metadata": {
        "id": "MuagOfOLUfiv"
      }
    },
    {
      "cell_type": "code",
      "source": [
        "Factors = int(input(\"Enter the number i will tell the factors:\"))\n",
        "for i in range(1,Factors):\n",
        "  if Factors%i == 0:\n",
        "    #print(i)\n",
        "    print(\"Factors of {} is {}\".format(Factors,i))"
      ],
      "metadata": {
        "colab": {
          "base_uri": "https://localhost:8080/"
        },
        "id": "mp_7KGReUeJ2",
        "outputId": "b1d692e7-bdda-46ef-e853-5a71006babc4"
      },
      "execution_count": null,
      "outputs": [
        {
          "output_type": "stream",
          "name": "stdout",
          "text": [
            "Enter the number i will tell the factors:10\n",
            "Factors of 10 is 1\n",
            "Factors of 10 is 2\n",
            "Factors of 10 is 5\n"
          ]
        }
      ]
    },
    {
      "cell_type": "markdown",
      "source": [
        "### 5.e Break out of the pattern"
      ],
      "metadata": {
        "id": "U4eM_BIaajqq"
      }
    },
    {
      "cell_type": "code",
      "source": [
        "#type q to exit\n",
        "while True:\n",
        "   m = input(\"Type q to exit:\")\n",
        "   if m.lower() == \"q\":\n",
        "       break"
      ],
      "metadata": {
        "colab": {
          "base_uri": "https://localhost:8080/"
        },
        "id": "fN80YtfpVBul",
        "outputId": "654562f4-9ee7-44f1-836c-259bc8f85b7c"
      },
      "execution_count": null,
      "outputs": [
        {
          "name": "stdout",
          "output_type": "stream",
          "text": [
            "Type q to exit:Q\n"
          ]
        }
      ]
    },
    {
      "cell_type": "code",
      "source": [
        "for i in range(1,101):\n",
        "  if i%2 == 0:\n",
        "      continue\n",
        "  print(i)\n"
      ],
      "metadata": {
        "colab": {
          "base_uri": "https://localhost:8080/"
        },
        "id": "juBgHLrVa_eJ",
        "outputId": "fce00154-c2a0-41f4-a98c-49efd1e0ffe9"
      },
      "execution_count": null,
      "outputs": [
        {
          "output_type": "stream",
          "name": "stdout",
          "text": [
            "1\n",
            "3\n",
            "5\n",
            "7\n",
            "9\n",
            "11\n",
            "13\n",
            "15\n",
            "17\n",
            "19\n",
            "21\n",
            "23\n",
            "25\n",
            "27\n",
            "29\n",
            "31\n",
            "33\n",
            "35\n",
            "37\n",
            "39\n",
            "41\n",
            "43\n",
            "45\n",
            "47\n",
            "49\n",
            "51\n",
            "53\n",
            "55\n",
            "57\n",
            "59\n",
            "61\n",
            "63\n",
            "65\n",
            "67\n",
            "69\n",
            "71\n",
            "73\n",
            "75\n",
            "77\n",
            "79\n",
            "81\n",
            "83\n",
            "85\n",
            "87\n",
            "89\n",
            "91\n",
            "93\n",
            "95\n",
            "97\n",
            "99\n"
          ]
        }
      ]
    },
    {
      "cell_type": "code",
      "source": [
        ""
      ],
      "metadata": {
        "id": "Xj-pk09Fcyt3"
      },
      "execution_count": null,
      "outputs": []
    }
  ],
  "metadata": {
    "hide_input": false,
    "kernelspec": {
      "display_name": "Python 3",
      "language": "python",
      "name": "python3"
    },
    "language_info": {
      "codemirror_mode": {
        "name": "ipython",
        "version": 3
      },
      "file_extension": ".py",
      "mimetype": "text/x-python",
      "name": "python",
      "nbconvert_exporter": "python",
      "pygments_lexer": "ipython3",
      "version": "3.8.3"
    },
    "latex_envs": {
      "LaTeX_envs_menu_present": true,
      "autoclose": false,
      "autocomplete": true,
      "bibliofile": "biblio.bib",
      "cite_by": "apalike",
      "current_citInitial": 1,
      "eqLabelWithNumbers": true,
      "eqNumInitial": 1,
      "hotkeys": {
        "equation": "Ctrl-E",
        "itemize": "Ctrl-I"
      },
      "labels_anchors": false,
      "latex_user_defs": false,
      "report_style_numbering": false,
      "user_envs_cfg": false
    },
    "colab": {
      "name": "Revision-python-1.ipynb",
      "provenance": [],
      "collapsed_sections": [
        "5srk0TOWvMuB",
        "iuD26_S_vMuD",
        "Z4giLSCbvMuD",
        "IDIhLvfHvMuH",
        "HnzCNFcavMuH",
        "XRtd759r_uSU",
        "V-_6ZBDr_1Lc",
        "CmYkj6vqA92f",
        "iKnXUQWUBh0H",
        "KRosTGy2CGpa",
        "1nNlXOi0GBWL",
        "sdSnYywIK7cv",
        "58fe8662"
      ],
      "include_colab_link": true
    }
  },
  "nbformat": 4,
  "nbformat_minor": 0
}