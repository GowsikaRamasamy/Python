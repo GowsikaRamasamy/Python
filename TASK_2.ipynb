{
  "nbformat": 4,
  "nbformat_minor": 0,
  "metadata": {
    "colab": {
      "name": "Task-2.ipynb",
      "provenance": [],
      "collapsed_sections": [],
      "authorship_tag": "ABX9TyNobzFM9vFHl033LfZfsxED",
      "include_colab_link": true
    },
    "kernelspec": {
      "name": "python3",
      "display_name": "Python 3"
    },
    "language_info": {
      "name": "python"
    }
  },
  "cells": [
    {
      "cell_type": "markdown",
      "metadata": {
        "id": "view-in-github",
        "colab_type": "text"
      },
      "source": [
        "<a href=\"https://colab.research.google.com/github/Karunasagar-K/Python/blob/main/Task_2.ipynb\" target=\"_parent\"><img src=\"https://colab.research.google.com/assets/colab-badge.svg\" alt=\"Open In Colab\"/></a>"
      ]
    },
    {
      "cell_type": "code",
      "execution_count": null,
      "metadata": {
        "id": "-Mhui7ABeQJv"
      },
      "outputs": [],
      "source": [
        ""
      ]
    },
    {
      "cell_type": "markdown",
      "metadata": {
        "id": "89b4bfcb"
      },
      "source": [
        "### Assignment - 2\n",
        "\n",
        "Submit 2 examples for each module.\n",
        "1. while loop\n",
        "2. for loop\n",
        "3. if else\n",
        "4. if elif else\n",
        "5. user defined functions without for loop, if loop\n",
        "6. user defined functions with for loop\n",
        "7. user defined functions with for loop and if loop\n",
        "8. break\n",
        "9. continue\n",
        "10. for loop with in operator\n",
        "11. for loop with if statement \n",
        "12. for loop with not in operator\n",
        "10. if with in operator\n",
        "11. if with not in opearator\n",
        "\n"
      ]
    },
    {
      "cell_type": "markdown",
      "source": [
        "### 1.While Loop\n",
        "* With the while loop we can execute a set of statements as long as a condition is true. \n"
      ],
      "metadata": {
        "id": "VFJzjvYeesZS"
      }
    },
    {
      "cell_type": "code",
      "source": [
        "#Eg-1\n",
        "#Print i as long as i less than 10\n",
        "i=1\n",
        "while i<10:\n",
        "  print(i)\n",
        "  i=i+1"
      ],
      "metadata": {
        "colab": {
          "base_uri": "https://localhost:8080/"
        },
        "id": "hQbrPXAmizZC",
        "outputId": "989da546-19ed-43b8-edba-5075c460f23e"
      },
      "execution_count": 2,
      "outputs": [
        {
          "output_type": "stream",
          "name": "stdout",
          "text": [
            "1\n",
            "2\n",
            "3\n",
            "4\n",
            "5\n",
            "6\n",
            "7\n",
            "8\n",
            "9\n"
          ]
        }
      ]
    },
    {
      "cell_type": "code",
      "source": [
        "#Eg-2\n",
        "#exit the loop when i is 5\n",
        "i=1\n",
        "while i<10:\n",
        "  print(i)\n",
        "  if i==5:\n",
        "   break\n",
        "  i=i+1"
      ],
      "metadata": {
        "colab": {
          "base_uri": "https://localhost:8080/"
        },
        "id": "zkjajo4IiYyy",
        "outputId": "2f74225b-238e-4d05-ff07-79bbd2746b7a"
      },
      "execution_count": 8,
      "outputs": [
        {
          "output_type": "stream",
          "name": "stdout",
          "text": [
            "1\n",
            "2\n",
            "3\n",
            "4\n",
            "5\n"
          ]
        }
      ]
    },
    {
      "cell_type": "markdown",
      "source": [
        "### 2.For loop \n"
      ],
      "metadata": {
        "id": "JK0TJ1-jjVvp"
      }
    },
    {
      "cell_type": "code",
      "source": [
        "#Eg-1\n",
        "names=[\"Karunas\",\"Senthil\",\"Kamesh\",\"Naveen\",\"Nandhi\",\"Durkee\"]\n",
        "for k in names:\n",
        "  print(k)"
      ],
      "metadata": {
        "colab": {
          "base_uri": "https://localhost:8080/"
        },
        "id": "3nR1Dre4jvtI",
        "outputId": "42e036a6-4edc-4994-9b61-fb0189bc86f2"
      },
      "execution_count": 13,
      "outputs": [
        {
          "output_type": "stream",
          "name": "stdout",
          "text": [
            "Karunas\n",
            "Senthil\n",
            "Kamesh\n",
            "Naveen\n",
            "Nandhi\n",
            "Durkee\n"
          ]
        }
      ]
    },
    {
      "cell_type": "code",
      "source": [
        "#Eg-2\n",
        "numbers=[1,2.5,3.5,6,8.5,14.5,23]\n",
        "for k in numbers:\n",
        "  print(k)"
      ],
      "metadata": {
        "colab": {
          "base_uri": "https://localhost:8080/"
        },
        "id": "OvPvU1W2kDAq",
        "outputId": "f1c3aa5a-f841-4119-f349-9870b9b1a1b8"
      },
      "execution_count": 15,
      "outputs": [
        {
          "output_type": "stream",
          "name": "stdout",
          "text": [
            "1\n",
            "2.5\n",
            "3.5\n",
            "6\n",
            "8.5\n",
            "14.5\n",
            "23\n"
          ]
        }
      ]
    },
    {
      "cell_type": "markdown",
      "source": [
        "### 3.If else"
      ],
      "metadata": {
        "id": "23mtmIxekVtY"
      }
    },
    {
      "cell_type": "code",
      "source": [
        "#Eg-1\n",
        "w=int(input(\"Enter the number:\"))\n",
        "if w%2==0:\n",
        "   print(\"{} is even number\".format(w))\n",
        "else:\n",
        "     print(\"{} is odd number\".format(w))"
      ],
      "metadata": {
        "colab": {
          "base_uri": "https://localhost:8080/"
        },
        "id": "nlr4-ix_kaQI",
        "outputId": "833a58f6-e9da-43b1-f6c9-6484a49d4594"
      },
      "execution_count": 24,
      "outputs": [
        {
          "output_type": "stream",
          "name": "stdout",
          "text": [
            "Enter the number:4\n",
            "4 is even number\n"
          ]
        }
      ]
    },
    {
      "cell_type": "code",
      "source": [
        "#Eg-2\n",
        "word = input(\"Enter the word:\") \n",
        "if len(word) <= 5: \n",
        " print(\"{} is not exceed 5 letters\".format(word))\n",
        "else: \n",
        " print(\"{} is exceed than 5 letters\".format(word))   "
      ],
      "metadata": {
        "colab": {
          "base_uri": "https://localhost:8080/"
        },
        "id": "Oh15Yy5gljYg",
        "outputId": "21b54d6b-cf0d-477e-82b7-482b04705a01"
      },
      "execution_count": 27,
      "outputs": [
        {
          "output_type": "stream",
          "name": "stdout",
          "text": [
            "Enter the word:Mani\n",
            "Mani is not exceed 5 letters\n"
          ]
        }
      ]
    },
    {
      "cell_type": "markdown",
      "source": [
        "### 4.If elif else"
      ],
      "metadata": {
        "id": "tLzrRuZxl-8B"
      }
    },
    {
      "cell_type": "code",
      "source": [
        "#Eg-1\n",
        "l=int(input(\"Enter the number:\"))\n",
        "if l<100:\n",
        "  print(\"{} is lesser than 100\".format(l))\n",
        "elif l==100:\n",
        "  print(\"{} is equal to 100\".format(l))\n",
        "else:\n",
        "  print(\"{} is greater than 100\".format(l))    \n"
      ],
      "metadata": {
        "colab": {
          "base_uri": "https://localhost:8080/"
        },
        "id": "hgleUpy3l94Q",
        "outputId": "54216b5f-325f-43fe-a117-47c11756f18b"
      },
      "execution_count": 34,
      "outputs": [
        {
          "output_type": "stream",
          "name": "stdout",
          "text": [
            "Enter the number:102\n",
            "102 is greater than 100\n"
          ]
        }
      ]
    },
    {
      "cell_type": "code",
      "source": [
        "#Eg-2\n",
        "h=input(\"Enter the name:\")\n",
        "if len(h)<10:\n",
        "  print(\"{} is lesser than 10 characters\".format(h))\n",
        "elif len(h)==100:\n",
        "  print(\"{} is equal to 10 characters\".format(h))\n",
        "else:\n",
        "  print(\"{} is greater than 10 characters\".format(h))    "
      ],
      "metadata": {
        "colab": {
          "base_uri": "https://localhost:8080/"
        },
        "id": "X0kz7xqMm2LA",
        "outputId": "c6c1bd7b-aa05-4295-89a1-9ab73bc12149"
      },
      "execution_count": 37,
      "outputs": [
        {
          "output_type": "stream",
          "name": "stdout",
          "text": [
            "Enter the name:Karunasagar\n",
            "Karunasagar is greater than 10 characters\n"
          ]
        }
      ]
    },
    {
      "cell_type": "markdown",
      "source": [
        "### 5.user defined functions without for loop, if loop"
      ],
      "metadata": {
        "id": "GbcKf5Yhn8cg"
      }
    },
    {
      "cell_type": "code",
      "source": [
        "#Eg-1\n",
        "def Leaders():\n",
        "  print(\"Thanthai Periyar\")\n",
        "  print(\"Aringar Anna\")\n",
        "  print(\"Kalaingar\")\n"
      ],
      "metadata": {
        "id": "jU0Qi7sLoHVI"
      },
      "execution_count": 42,
      "outputs": []
    },
    {
      "cell_type": "code",
      "source": [
        "Leaders()"
      ],
      "metadata": {
        "colab": {
          "base_uri": "https://localhost:8080/"
        },
        "id": "WtKVqV0YoHXo",
        "outputId": "e984724b-22c3-4337-8521-7f65932e8efd"
      },
      "execution_count": 43,
      "outputs": [
        {
          "output_type": "stream",
          "name": "stdout",
          "text": [
            "Thanthai Periyar\n",
            "Aringar Anna\n",
            "Kalaingar\n"
          ]
        }
      ]
    },
    {
      "cell_type": "code",
      "source": [
        "#Eg-2\n",
        "def Principles(a,b,c):\n",
        "  return(\"My Party Aim is {},we will work on the basis of {} and our destination is {} \".format(a,b,c))"
      ],
      "metadata": {
        "id": "paMVR3sgotag"
      },
      "execution_count": 47,
      "outputs": []
    },
    {
      "cell_type": "code",
      "source": [
        "Principles(\"State Autonomy\",\"Duty,Dignity,Control\",\"Equality,Liberty,Fraternity\")"
      ],
      "metadata": {
        "colab": {
          "base_uri": "https://localhost:8080/",
          "height": 35
        },
        "id": "8Jrmj2J4qu2g",
        "outputId": "50c1297f-3fa9-404c-ff02-2e233e41eb65"
      },
      "execution_count": 48,
      "outputs": [
        {
          "output_type": "execute_result",
          "data": {
            "application/vnd.google.colaboratory.intrinsic+json": {
              "type": "string"
            },
            "text/plain": [
              "'My Party Aim is State Autonomy,we will work on the basis of Duty,Dignity,Control and our destination is Equality,Liberty,Fraternity '"
            ]
          },
          "metadata": {},
          "execution_count": 48
        }
      ]
    },
    {
      "cell_type": "markdown",
      "source": [
        "### 6.user defined functions with for loop"
      ],
      "metadata": {
        "id": "iB2kmGjErMp3"
      }
    },
    {
      "cell_type": "code",
      "source": [
        "#Eg-1\n",
        "def games(name):\n",
        "  for i in name:\n",
        "    print(i)"
      ],
      "metadata": {
        "id": "e8YczkGkB8Ry"
      },
      "execution_count": 52,
      "outputs": []
    },
    {
      "cell_type": "code",
      "source": [
        "games(\"Cricket\")"
      ],
      "metadata": {
        "colab": {
          "base_uri": "https://localhost:8080/"
        },
        "id": "TE1kZeRyCsaZ",
        "outputId": "ab88fb13-2dba-4d9e-ae60-0f3f87785a05"
      },
      "execution_count": 54,
      "outputs": [
        {
          "output_type": "stream",
          "name": "stdout",
          "text": [
            "C\n",
            "r\n",
            "i\n",
            "c\n",
            "k\n",
            "e\n",
            "t\n"
          ]
        }
      ]
    },
    {
      "cell_type": "code",
      "source": [
        "#Eg-2 \n",
        "def user(location):\n",
        "  for i in location:\n",
        "    print(i)"
      ],
      "metadata": {
        "id": "np76vs00C3DB"
      },
      "execution_count": 55,
      "outputs": []
    },
    {
      "cell_type": "code",
      "source": [
        "user(\"Dindigul\")"
      ],
      "metadata": {
        "colab": {
          "base_uri": "https://localhost:8080/"
        },
        "id": "l9x_X2HDDCWK",
        "outputId": "129b6917-c698-4638-9ac2-30a311aa3c83"
      },
      "execution_count": 56,
      "outputs": [
        {
          "output_type": "stream",
          "name": "stdout",
          "text": [
            "D\n",
            "i\n",
            "n\n",
            "d\n",
            "i\n",
            "g\n",
            "u\n",
            "l\n"
          ]
        }
      ]
    },
    {
      "cell_type": "markdown",
      "source": [
        "### 7.user defined functions with for loop and if loop \n",
        " \n"
      ],
      "metadata": {
        "id": "V3_QAj59DMVB"
      }
    },
    {
      "cell_type": "code",
      "source": [
        "#Eg-1\n",
        "def num(number): \n",
        " for i in range(number): \n",
        "  if i%2==0:\n",
        "   print(i) \n",
        " else: \n",
        "   print('End of for loop')\n"
      ],
      "metadata": {
        "id": "DNS4hYERNKBJ"
      },
      "execution_count": 67,
      "outputs": []
    },
    {
      "cell_type": "code",
      "source": [
        "num(6)"
      ],
      "metadata": {
        "colab": {
          "base_uri": "https://localhost:8080/"
        },
        "id": "5VmVv2QOP7xe",
        "outputId": "cd41557c-185f-4e32-9a19-0f5861514809"
      },
      "execution_count": 68,
      "outputs": [
        {
          "output_type": "stream",
          "name": "stdout",
          "text": [
            "0\n",
            "2\n",
            "4\n",
            "End of for loop\n"
          ]
        }
      ]
    },
    {
      "cell_type": "code",
      "source": [
        "#Eg-2 \n",
        "#FIND ODD OR EVEN USING FUNCTION \n",
        "def numbers(i): \n",
        " if i%2 == 0: \n",
        "  print(\"even\") \n",
        " else: \n",
        "  print(\"odd\") \n"
      ],
      "metadata": {
        "id": "0vNHiH-ifhEz"
      },
      "execution_count": 82,
      "outputs": []
    },
    {
      "cell_type": "code",
      "source": [
        "numbers(5)"
      ],
      "metadata": {
        "colab": {
          "base_uri": "https://localhost:8080/"
        },
        "id": "oy0HWpjrfoGD",
        "outputId": "c0fdfa81-8d1e-4278-c68e-677c818b4956"
      },
      "execution_count": 83,
      "outputs": [
        {
          "output_type": "stream",
          "name": "stdout",
          "text": [
            "odd\n"
          ]
        }
      ]
    },
    {
      "cell_type": "code",
      "source": [
        "#Eg-3\n",
        "#FIND THE NUMBER IS GREATER OR LESSER OR EQUAL TO 100 WITH FUNCTION\n",
        "def numbers(num): \n",
        " if num < 100: \n",
        "  print(\"{} is less than 100\".format(num)) \n",
        " elif num > 100: \n",
        "  print(\"{} is greater than 100\".format(num)) \n",
        " else: \n",
        "  print(\"{} is equal to 100\".format(num)) \n"
      ],
      "metadata": {
        "id": "JuRRmJ0ufuF5"
      },
      "execution_count": 87,
      "outputs": []
    },
    {
      "cell_type": "code",
      "source": [
        "numbers(88)"
      ],
      "metadata": {
        "colab": {
          "base_uri": "https://localhost:8080/"
        },
        "id": "s6i-une0f6Li",
        "outputId": "67b39a2e-d7cb-4eae-ca1f-bdfaa9a63946"
      },
      "execution_count": 88,
      "outputs": [
        {
          "output_type": "stream",
          "name": "stdout",
          "text": [
            "88 is less than 100\n"
          ]
        }
      ]
    },
    {
      "cell_type": "code",
      "source": [
        "numbers(100)"
      ],
      "metadata": {
        "colab": {
          "base_uri": "https://localhost:8080/"
        },
        "id": "jRQhFrmmgAyR",
        "outputId": "14e1f7dd-82d7-4ab6-c723-574462bc7b49"
      },
      "execution_count": 89,
      "outputs": [
        {
          "output_type": "stream",
          "name": "stdout",
          "text": [
            "100 is equal to 100\n"
          ]
        }
      ]
    },
    {
      "cell_type": "markdown",
      "source": [
        "### 8.Break"
      ],
      "metadata": {
        "id": "sfjRLxF6gvDO"
      }
    },
    {
      "cell_type": "code",
      "source": [
        "#Eg-1\n",
        "for i in range(1,101): \n",
        " if i % 5 == 0:\n",
        "  break\n",
        " print(i)"
      ],
      "metadata": {
        "colab": {
          "base_uri": "https://localhost:8080/"
        },
        "id": "m0thJSXajaTI",
        "outputId": "7620c1b2-9639-45fa-d5d7-9fa8035e8210"
      },
      "execution_count": 93,
      "outputs": [
        {
          "output_type": "stream",
          "name": "stdout",
          "text": [
            "1\n",
            "2\n",
            "3\n",
            "4\n"
          ]
        }
      ]
    },
    {
      "cell_type": "markdown",
      "source": [
        "### 9.Continue"
      ],
      "metadata": {
        "id": "W_HkasrThHGz"
      }
    },
    {
      "cell_type": "code",
      "source": [
        "##CONTINUE THE STATEMENT,IF DIVIDED BY 2 \n",
        "for x in range(1,10): \n",
        " if x%2 == 0: \n",
        "  continue \n",
        "  print(x)\n"
      ],
      "metadata": {
        "id": "fFji10VEjkx3"
      },
      "execution_count": 100,
      "outputs": []
    },
    {
      "cell_type": "markdown",
      "source": [
        "### 10.for loop with in operator"
      ],
      "metadata": {
        "id": "L4XJvm3xnH-Y"
      }
    },
    {
      "cell_type": "code",
      "source": [
        "#Eg-1\n",
        "b = \"Anna is a great leader\" \n",
        "\"great\" in b "
      ],
      "metadata": {
        "colab": {
          "base_uri": "https://localhost:8080/"
        },
        "id": "c1bkMFsrnJyU",
        "outputId": "293f7185-5718-4f7a-f605-a46299e352f7"
      },
      "execution_count": 103,
      "outputs": [
        {
          "output_type": "execute_result",
          "data": {
            "text/plain": [
              "True"
            ]
          },
          "metadata": {},
          "execution_count": 103
        }
      ]
    },
    {
      "cell_type": "code",
      "source": [
        "\"anna\" in b "
      ],
      "metadata": {
        "colab": {
          "base_uri": "https://localhost:8080/"
        },
        "id": "H4USw2-Jn0V8",
        "outputId": "5b0975d9-cb04-4a75-9139-ba1c5a795009"
      },
      "execution_count": 104,
      "outputs": [
        {
          "output_type": "execute_result",
          "data": {
            "text/plain": [
              "False"
            ]
          },
          "metadata": {},
          "execution_count": 104
        }
      ]
    },
    {
      "cell_type": "code",
      "source": [
        "\"Anna\" in b"
      ],
      "metadata": {
        "colab": {
          "base_uri": "https://localhost:8080/"
        },
        "id": "l7RIPTp8oCc-",
        "outputId": "4a1c8970-01a0-4767-f8a9-ea667a4e14eb"
      },
      "execution_count": 105,
      "outputs": [
        {
          "output_type": "execute_result",
          "data": {
            "text/plain": [
              "True"
            ]
          },
          "metadata": {},
          "execution_count": 105
        }
      ]
    },
    {
      "cell_type": "markdown",
      "source": [
        "### 11.for loop with if statement"
      ],
      "metadata": {
        "id": "qXt0tjE4oGLx"
      }
    },
    {
      "cell_type": "code",
      "source": [
        "#Eg-1\n",
        "for k in range(5,50): \n",
        " if k%9==0: \n",
        "  print(k)\n"
      ],
      "metadata": {
        "colab": {
          "base_uri": "https://localhost:8080/"
        },
        "id": "4VKI70wyoHoN",
        "outputId": "15fa0019-bff7-48a6-ff76-961aa7b21df1"
      },
      "execution_count": 107,
      "outputs": [
        {
          "output_type": "stream",
          "name": "stdout",
          "text": [
            "9\n",
            "18\n",
            "27\n",
            "36\n",
            "45\n"
          ]
        }
      ]
    },
    {
      "cell_type": "code",
      "source": [
        "#Eg-2\n",
        "for k in range(5,50): \n",
        " if k%8==0: \n",
        "  break \n",
        " print(k) \n"
      ],
      "metadata": {
        "colab": {
          "base_uri": "https://localhost:8080/"
        },
        "id": "DFbxDuNgoNgB",
        "outputId": "56d75b9f-e8f2-45ee-e3aa-1a72c4850e38"
      },
      "execution_count": 109,
      "outputs": [
        {
          "output_type": "stream",
          "name": "stdout",
          "text": [
            "5\n",
            "6\n",
            "7\n"
          ]
        }
      ]
    },
    {
      "cell_type": "markdown",
      "source": [
        "### 12.for loop with not in operator \n",
        "### 13.If with in operator\n"
      ],
      "metadata": {
        "id": "XSDE3Yt7wRl0"
      }
    },
    {
      "cell_type": "code",
      "source": [
        " numbers_list =[1,2,3,4,5,6,7,8,9,10]; \n",
        "for a in numbers_list: \n",
        "  if a in (5,8): \n",
        "   print(\"numbers {} are in numbers_list\".format(a)) \n",
        "  else: \n",
        "   print(\"numbers {} are not in numbers_list\".format(a))"
      ],
      "metadata": {
        "colab": {
          "base_uri": "https://localhost:8080/"
        },
        "id": "pIEhLIhUwi7s",
        "outputId": "1d8ed8ae-aea8-44ec-aeab-6237e5a92911"
      },
      "execution_count": 123,
      "outputs": [
        {
          "output_type": "stream",
          "name": "stdout",
          "text": [
            "numbers 1 are not in numbers_list\n",
            "numbers 2 are not in numbers_list\n",
            "numbers 3 are not in numbers_list\n",
            "numbers 4 are not in numbers_list\n",
            "numbers 5 are in numbers_list\n",
            "numbers 6 are not in numbers_list\n",
            "numbers 7 are not in numbers_list\n",
            "numbers 8 are in numbers_list\n",
            "numbers 9 are not in numbers_list\n",
            "numbers 10 are not in numbers_list\n"
          ]
        }
      ]
    },
    {
      "cell_type": "code",
      "source": [
        ""
      ],
      "metadata": {
        "id": "b8zk2EqSynSs"
      },
      "execution_count": null,
      "outputs": []
    }
  ]
}
