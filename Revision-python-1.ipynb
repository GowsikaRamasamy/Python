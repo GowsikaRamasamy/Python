{
 "cells": [
  {
   "cell_type": "markdown",
   "metadata": {},
   "source": [
    "## Chapter-1 First program "
   ]
  },
  {
   "cell_type": "markdown",
   "metadata": {},
   "source": [
    "### 1.a.Hello word"
   ]
  },
  {
   "cell_type": "code",
   "execution_count": 10,
   "metadata": {
    "ExecuteTime": {
     "end_time": "2022-02-18T17:31:41.136377Z",
     "start_time": "2022-02-18T17:31:41.120636Z"
    }
   },
   "outputs": [
    {
     "name": "stdout",
     "output_type": "stream",
     "text": [
      "Periyar\n"
     ]
    }
   ],
   "source": [
    "print('Periyar')"
   ]
  },
  {
   "cell_type": "code",
   "execution_count": 11,
   "metadata": {
    "ExecuteTime": {
     "end_time": "2022-02-18T17:31:41.443906Z",
     "start_time": "2022-02-18T17:31:41.439209Z"
    }
   },
   "outputs": [
    {
     "name": "stdout",
     "output_type": "stream",
     "text": [
      "Anna\n"
     ]
    }
   ],
   "source": [
    "print(\"Anna\")"
   ]
  },
  {
   "cell_type": "code",
   "execution_count": 12,
   "metadata": {
    "ExecuteTime": {
     "end_time": "2022-02-18T17:31:41.770328Z",
     "start_time": "2022-02-18T17:31:41.760553Z"
    }
   },
   "outputs": [
    {
     "name": "stdout",
     "output_type": "stream",
     "text": [
      "Kalaingar\n"
     ]
    }
   ],
   "source": [
    "print('''Kalaingar''')"
   ]
  },
  {
   "cell_type": "markdown",
   "metadata": {},
   "source": [
    "### 1.b.Creating the variable\n",
    "### Variable is nothing but a memory location to store the values.\n"
   ]
  },
  {
   "cell_type": "code",
   "execution_count": 13,
   "metadata": {
    "ExecuteTime": {
     "end_time": "2022-02-18T17:31:42.873615Z",
     "start_time": "2022-02-18T17:31:42.855877Z"
    }
   },
   "outputs": [],
   "source": [
    "a=\"Aringar Anna is my Leader\""
   ]
  },
  {
   "cell_type": "code",
   "execution_count": 14,
   "metadata": {
    "ExecuteTime": {
     "end_time": "2022-02-18T17:31:43.392064Z",
     "start_time": "2022-02-18T17:31:43.385778Z"
    }
   },
   "outputs": [
    {
     "data": {
      "text/plain": [
       "'Aringar Anna is my Leader'"
      ]
     },
     "execution_count": 14,
     "metadata": {},
     "output_type": "execute_result"
    }
   ],
   "source": [
    "a"
   ]
  },
  {
   "cell_type": "code",
   "execution_count": 15,
   "metadata": {
    "ExecuteTime": {
     "end_time": "2022-02-18T17:31:43.985172Z",
     "start_time": "2022-02-18T17:31:43.976931Z"
    }
   },
   "outputs": [],
   "source": [
    "Team=[\"Red\",\"Blue\",\"Green\",\"Yellow\"]"
   ]
  },
  {
   "cell_type": "code",
   "execution_count": 16,
   "metadata": {
    "ExecuteTime": {
     "end_time": "2022-02-18T17:31:45.962645Z",
     "start_time": "2022-02-18T17:31:45.950399Z"
    }
   },
   "outputs": [
    {
     "data": {
      "text/plain": [
       "'Green'"
      ]
     },
     "execution_count": 16,
     "metadata": {},
     "output_type": "execute_result"
    }
   ],
   "source": [
    "Team[2]"
   ]
  },
  {
   "cell_type": "code",
   "execution_count": 17,
   "metadata": {
    "ExecuteTime": {
     "end_time": "2022-02-18T17:31:46.352483Z",
     "start_time": "2022-02-18T17:31:46.332212Z"
    }
   },
   "outputs": [
    {
     "data": {
      "text/plain": [
       "4"
      ]
     },
     "execution_count": 17,
     "metadata": {},
     "output_type": "execute_result"
    }
   ],
   "source": [
    "len(Team)"
   ]
  },
  {
   "cell_type": "markdown",
   "metadata": {},
   "source": [
    "## Chapter-2 String and string methods\n",
    "### Enclosed within quotes i.e collection of data, characters, or words"
   ]
  },
  {
   "cell_type": "markdown",
   "metadata": {},
   "source": [
    "### Data types- 3types\n",
    "#### 1.int- numbers without decimals\n",
    "#### 2.float-numbers with decimals\n",
    "#### 3.string-enclosed within the quotes\n"
   ]
  },
  {
   "cell_type": "markdown",
   "metadata": {
    "ExecuteTime": {
     "end_time": "2022-02-16T11:54:05.501381Z",
     "start_time": "2022-02-16T11:54:05.488747Z"
    }
   },
   "source": [
    "### 2.a. what is string?"
   ]
  },
  {
   "cell_type": "code",
   "execution_count": 18,
   "metadata": {
    "ExecuteTime": {
     "end_time": "2022-02-18T17:31:48.028828Z",
     "start_time": "2022-02-18T17:31:48.014444Z"
    }
   },
   "outputs": [
    {
     "data": {
      "text/plain": [
       "int"
      ]
     },
     "execution_count": 18,
     "metadata": {},
     "output_type": "execute_result"
    }
   ],
   "source": [
    "score = 98\n",
    "type(score)"
   ]
  },
  {
   "cell_type": "code",
   "execution_count": 19,
   "metadata": {
    "ExecuteTime": {
     "end_time": "2022-02-18T17:31:48.451409Z",
     "start_time": "2022-02-18T17:31:48.431882Z"
    }
   },
   "outputs": [
    {
     "data": {
      "text/plain": [
       "float"
      ]
     },
     "execution_count": 19,
     "metadata": {},
     "output_type": "execute_result"
    }
   ],
   "source": [
    "score=98.5\n",
    "type(score)"
   ]
  },
  {
   "cell_type": "code",
   "execution_count": 20,
   "metadata": {
    "ExecuteTime": {
     "end_time": "2022-02-18T17:31:48.872608Z",
     "start_time": "2022-02-18T17:31:48.864403Z"
    }
   },
   "outputs": [
    {
     "data": {
      "text/plain": [
       "str"
      ]
     },
     "execution_count": 20,
     "metadata": {},
     "output_type": "execute_result"
    }
   ],
   "source": [
    "name = 'Karunas'\n",
    "type(name)"
   ]
  },
  {
   "cell_type": "code",
   "execution_count": 22,
   "metadata": {
    "ExecuteTime": {
     "end_time": "2022-02-18T17:32:45.395300Z",
     "start_time": "2022-02-18T17:32:45.382650Z"
    }
   },
   "outputs": [],
   "source": [
    "SNSCT_1 =\"Senthil\"\n",
    "SNSCT_2=\"Kamesh\"\n",
    "SNSCT_3=\"Karuna\""
   ]
  },
  {
   "cell_type": "markdown",
   "metadata": {},
   "source": [
    "* Methods/Functions - some operation which I wanted to perform on my data. For eg, addition, length of characters, captilize, upper case, and so on..\n",
    "\n",
    "### PTR - Methods/Functions always ends with ()."
   ]
  },
  {
   "cell_type": "code",
   "execution_count": 23,
   "metadata": {
    "ExecuteTime": {
     "end_time": "2022-02-18T17:35:03.723578Z",
     "start_time": "2022-02-18T17:35:03.705943Z"
    }
   },
   "outputs": [
    {
     "data": {
      "text/plain": [
       "'Senthil'"
      ]
     },
     "execution_count": 23,
     "metadata": {},
     "output_type": "execute_result"
    }
   ],
   "source": [
    "SNSCT_1.capitalize()"
   ]
  },
  {
   "cell_type": "code",
   "execution_count": 24,
   "metadata": {
    "ExecuteTime": {
     "end_time": "2022-02-18T17:35:19.118348Z",
     "start_time": "2022-02-18T17:35:19.102299Z"
    }
   },
   "outputs": [
    {
     "data": {
      "text/plain": [
       "'SENTHIL'"
      ]
     },
     "execution_count": 24,
     "metadata": {},
     "output_type": "execute_result"
    }
   ],
   "source": [
    "SNSCT_1.upper()"
   ]
  },
  {
   "cell_type": "markdown",
   "metadata": {},
   "source": [
    "### Task-1\n",
    "* More practice"
   ]
  },
  {
   "cell_type": "markdown",
   "metadata": {},
   "source": [
    "### 2.b. concatenation and slicing"
   ]
  },
  {
   "cell_type": "code",
   "execution_count": 25,
   "metadata": {
    "ExecuteTime": {
     "end_time": "2022-02-18T17:41:08.175933Z",
     "start_time": "2022-02-18T17:41:08.166785Z"
    }
   },
   "outputs": [],
   "source": [
    "fname=\"Karuna\"\n",
    "lname=\"sagar\""
   ]
  },
  {
   "cell_type": "code",
   "execution_count": 26,
   "metadata": {
    "ExecuteTime": {
     "end_time": "2022-02-18T17:41:47.746212Z",
     "start_time": "2022-02-18T17:41:47.733260Z"
    }
   },
   "outputs": [
    {
     "name": "stdout",
     "output_type": "stream",
     "text": [
      "Karuna\n",
      "sagar\n"
     ]
    }
   ],
   "source": [
    "print(fname)\n",
    "print(lname)"
   ]
  },
  {
   "cell_type": "code",
   "execution_count": 27,
   "metadata": {
    "ExecuteTime": {
     "end_time": "2022-02-18T17:42:06.291564Z",
     "start_time": "2022-02-18T17:42:06.279607Z"
    }
   },
   "outputs": [
    {
     "name": "stdout",
     "output_type": "stream",
     "text": [
      "Karuna sagar\n"
     ]
    }
   ],
   "source": [
    "print(fname,lname)"
   ]
  },
  {
   "cell_type": "code",
   "execution_count": 34,
   "metadata": {
    "ExecuteTime": {
     "end_time": "2022-02-18T17:54:23.275793Z",
     "start_time": "2022-02-18T17:54:23.267646Z"
    }
   },
   "outputs": [
    {
     "name": "stdout",
     "output_type": "stream",
     "text": [
      "First name:  Karuna \n",
      "Last name:  sagar\n"
     ]
    }
   ],
   "source": [
    "print(\"First name: \",fname ,\"\\nLast name: \",lname) #escape sequences"
   ]
  },
  {
   "cell_type": "code",
   "execution_count": 35,
   "metadata": {
    "ExecuteTime": {
     "end_time": "2022-02-18T17:54:24.039690Z",
     "start_time": "2022-02-18T17:54:24.024825Z"
    }
   },
   "outputs": [],
   "source": [
    "Quote = \"Tap the rich and pat the poor\""
   ]
  },
  {
   "cell_type": "code",
   "execution_count": 37,
   "metadata": {
    "ExecuteTime": {
     "end_time": "2022-02-18T17:54:30.595777Z",
     "start_time": "2022-02-18T17:54:30.580939Z"
    }
   },
   "outputs": [
    {
     "data": {
      "text/plain": [
       "' the rich and pat the poor'"
      ]
     },
     "execution_count": 37,
     "metadata": {},
     "output_type": "execute_result"
    }
   ],
   "source": [
    "Quote[3:]"
   ]
  },
  {
   "cell_type": "code",
   "execution_count": 39,
   "metadata": {
    "ExecuteTime": {
     "end_time": "2022-02-18T18:04:11.205118Z",
     "start_time": "2022-02-18T18:04:11.187301Z"
    }
   },
   "outputs": [
    {
     "data": {
      "text/plain": [
       "8"
      ]
     },
     "execution_count": 39,
     "metadata": {},
     "output_type": "execute_result"
    }
   ],
   "source": [
    "Quote.find(\"rich\")"
   ]
  },
  {
   "cell_type": "code",
   "execution_count": 46,
   "metadata": {
    "ExecuteTime": {
     "end_time": "2022-02-18T18:12:18.610491Z",
     "start_time": "2022-02-18T18:12:18.595569Z"
    }
   },
   "outputs": [
    {
     "name": "stdout",
     "output_type": "stream",
     "text": [
      "Anna became the Chief minister of Tamilnadu in 1967\n"
     ]
    }
   ],
   "source": [
    "year = 1967\n",
    "Name= 'Anna'\n",
    "print(Name+' became the Chief minister of Tamilnadu in ' + str(year))\n",
    "#typecasting-Forcefully converting the inte data type into str data type"
   ]
  },
  {
   "cell_type": "code",
   "execution_count": 47,
   "metadata": {
    "ExecuteTime": {
     "end_time": "2022-02-18T18:13:03.535479Z",
     "start_time": "2022-02-18T18:13:03.524300Z"
    }
   },
   "outputs": [
    {
     "name": "stdout",
     "output_type": "stream",
     "text": [
      "Anna  became the Chief minister of Tamilnadu in  1967\n"
     ]
    }
   ],
   "source": [
    "year = 1967\n",
    "Name= 'Anna'\n",
    "print(Name,' became the Chief minister of Tamilnadu in ' ,year)"
   ]
  },
  {
   "cell_type": "markdown",
   "metadata": {},
   "source": [
    "### 2.C Interact with user input"
   ]
  },
  {
   "cell_type": "code",
   "execution_count": 53,
   "metadata": {
    "ExecuteTime": {
     "end_time": "2022-02-18T18:55:44.210941Z",
     "start_time": "2022-02-18T18:55:41.976008Z"
    }
   },
   "outputs": [
    {
     "name": "stdout",
     "output_type": "stream",
     "text": [
      "username:KKs\n",
      "Username starts with  K\n"
     ]
    }
   ],
   "source": [
    "username=input('username:')\n",
    "print(\"Username starts with \",username[0])"
   ]
  },
  {
   "cell_type": "markdown",
   "metadata": {},
   "source": [
    "### 2.d Streamine your print statements\n",
    "*"
   ]
  },
  {
   "cell_type": "code",
   "execution_count": 1,
   "metadata": {
    "ExecuteTime": {
     "end_time": "2022-02-18T19:04:23.918848Z",
     "start_time": "2022-02-18T19:04:09.548443Z"
    }
   },
   "outputs": [
    {
     "name": "stdout",
     "output_type": "stream",
     "text": [
      "enter your first name:Karuna\n",
      "enter your last name:Sagar\n",
      "first name - Karuna \n",
      "last name - Sagar\n"
     ]
    }
   ],
   "source": [
    "fname=input('enter your first name:')\n",
    "lname=input('enter your last name:')\n",
    "print('first name - {} \\nlast name - {}'.format(fname,lname))"
   ]
  },
  {
   "cell_type": "markdown",
   "metadata": {},
   "source": [
    "### Chapter-3 Numbers in python"
   ]
  },
  {
   "cell_type": "code",
   "execution_count": 5,
   "metadata": {
    "ExecuteTime": {
     "end_time": "2022-02-18T19:08:05.105096Z",
     "start_time": "2022-02-18T19:08:02.011077Z"
    }
   },
   "outputs": [
    {
     "name": "stdout",
     "output_type": "stream",
     "text": [
      "enter the marks:-100\n"
     ]
    }
   ],
   "source": [
    "marks=int(input('enter the marks:'))"
   ]
  },
  {
   "cell_type": "code",
   "execution_count": 6,
   "metadata": {
    "ExecuteTime": {
     "end_time": "2022-02-18T19:08:54.216800Z",
     "start_time": "2022-02-18T19:08:54.190081Z"
    }
   },
   "outputs": [
    {
     "data": {
      "text/plain": [
       "int"
      ]
     },
     "execution_count": 6,
     "metadata": {},
     "output_type": "execute_result"
    }
   ],
   "source": [
    "type(marks)"
   ]
  },
  {
   "cell_type": "code",
   "execution_count": 7,
   "metadata": {
    "ExecuteTime": {
     "end_time": "2022-02-18T19:09:15.428589Z",
     "start_time": "2022-02-18T19:09:15.411678Z"
    }
   },
   "outputs": [],
   "source": [
    "#abs()-absolute number"
   ]
  },
  {
   "cell_type": "code",
   "execution_count": 9,
   "metadata": {
    "ExecuteTime": {
     "end_time": "2022-02-18T19:10:03.804569Z",
     "start_time": "2022-02-18T19:10:00.766400Z"
    }
   },
   "outputs": [
    {
     "name": "stdout",
     "output_type": "stream",
     "text": [
      "enter the marks:-100\n"
     ]
    },
    {
     "data": {
      "text/plain": [
       "100"
      ]
     },
     "execution_count": 9,
     "metadata": {},
     "output_type": "execute_result"
    }
   ],
   "source": [
    "marks=abs(int(input('enter the marks:')))\n",
    "marks"
   ]
  },
  {
   "cell_type": "markdown",
   "metadata": {},
   "source": [
    "### Chapter-4 Functions and Loops\n",
    "\n",
    "3 types of functions\n",
    "1. Predefined functions\n",
    "2. user defined functions\n",
    "3. Anonymous functions"
   ]
  },
  {
   "cell_type": "code",
   "execution_count": 11,
   "metadata": {
    "ExecuteTime": {
     "end_time": "2022-02-18T19:17:40.434261Z",
     "start_time": "2022-02-18T19:17:40.417998Z"
    }
   },
   "outputs": [
    {
     "data": {
      "text/plain": [
       "6"
      ]
     },
     "execution_count": 11,
     "metadata": {},
     "output_type": "execute_result"
    }
   ],
   "source": [
    "#Build-in Function\n",
    "len(fname)"
   ]
  },
  {
   "cell_type": "code",
   "execution_count": 14,
   "metadata": {
    "ExecuteTime": {
     "end_time": "2022-02-18T19:21:45.643320Z",
     "start_time": "2022-02-18T19:21:45.631018Z"
    }
   },
   "outputs": [],
   "source": [
    "#user defined function\n",
    "def get_details():\n",
    "    print(\"Welcome to TN\")\n",
    "    print(\"Welcome to IND\")\n"
   ]
  },
  {
   "cell_type": "code",
   "execution_count": 15,
   "metadata": {
    "ExecuteTime": {
     "end_time": "2022-02-18T19:21:47.608495Z",
     "start_time": "2022-02-18T19:21:47.594388Z"
    }
   },
   "outputs": [
    {
     "name": "stdout",
     "output_type": "stream",
     "text": [
      "Welcome to TN\n",
      "Welcome to IND\n"
     ]
    }
   ],
   "source": [
    "get_details()    "
   ]
  },
  {
   "cell_type": "code",
   "execution_count": null,
   "metadata": {},
   "outputs": [],
   "source": []
  }
 ],
 "metadata": {
  "hide_input": false,
  "kernelspec": {
   "display_name": "Python 3",
   "language": "python",
   "name": "python3"
  },
  "language_info": {
   "codemirror_mode": {
    "name": "ipython",
    "version": 3
   },
   "file_extension": ".py",
   "mimetype": "text/x-python",
   "name": "python",
   "nbconvert_exporter": "python",
   "pygments_lexer": "ipython3",
   "version": "3.8.3"
  },
  "latex_envs": {
   "LaTeX_envs_menu_present": true,
   "autoclose": false,
   "autocomplete": true,
   "bibliofile": "biblio.bib",
   "cite_by": "apalike",
   "current_citInitial": 1,
   "eqLabelWithNumbers": true,
   "eqNumInitial": 1,
   "hotkeys": {
    "equation": "Ctrl-E",
    "itemize": "Ctrl-I"
   },
   "labels_anchors": false,
   "latex_user_defs": false,
   "report_style_numbering": false,
   "user_envs_cfg": false
  }
 },
 "nbformat": 4,
 "nbformat_minor": 4
}
